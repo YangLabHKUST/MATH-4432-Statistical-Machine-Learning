{
 "cells": [
  {
   "cell_type": "markdown",
   "id": "f895813d4df568d7",
   "metadata": {},
   "source": [
    "## 1. Introduction to Python"
   ]
  },
  {
   "cell_type": "markdown",
   "id": "fa455e0ed96d32d2",
   "metadata": {},
   "source": [
    "Python is a high-level, interpreted, interactive and object-oriented scripting language. Python is designed to be highly readable. It uses English keywords frequently where as other languages use punctuation, and it has fewer syntactical constructions than other languages."
   ]
  },
  {
   "cell_type": "markdown",
   "id": "65f2bfbda5640b79",
   "metadata": {},
   "source": [
    "Basic Syntax:\n",
    "\n",
    "Python is a case sensitive language. So, Print and print are different. Here is a simple line of code that prints Hello World.\n",
    "```python\n",
    "print(\"Hello World\")\n",
    "```\n",
    "\n",
    "Python uses indentation to define code blocks, instead of brackets. The standard indentation is 4 spaces, although tabs and any other space size will work, as long as it is consistent. Here is an example of code block in Python.\n",
    "```python\n",
    "if True:\n",
    "    print(\"True\")\n",
    "else:\n",
    "    print(\"False\")\n",
    "```\n",
    "\n",
    "Recommanded book: [Python crash course](https://github.com/shahadot786/Python-Books/blob/master/python-crash-course.pdf)\n",
    "\n",
    "![Python crash course](../images/book.png)"
   ]
  },
  {
   "cell_type": "markdown",
   "id": "a5bc3619e6b6467a",
   "metadata": {},
   "source": [
    "## 1.1 Data Types\n",
    "\n",
    "Python has the following data types built-in by default, in these categories:\n",
    "\n",
    "1. **Text Type**:\tstr\n",
    "2. **Numeric Types**:\tint, float, complex\n",
    "3. **Sequence Types**:\tlist, tuple, range\n",
    "4. **Mapping Type**:\tdict\n",
    "5. **Set Types**:\tset, frozenset\n",
    "6. **Boolean Type**:\tbool\n",
    "..."
   ]
  },
  {
   "cell_type": "code",
   "execution_count": null,
   "id": "22ed82a0909d8691",
   "metadata": {},
   "outputs": [],
   "source": [
    "# Example of data types\n",
    "# Text Type\n",
    "x = \"Hello World\"\n",
    "\n",
    "# Numeric Types\n",
    "x = 20\n",
    "\n",
    "# Sequence Types\n",
    "x = [\"apple\", \"banana\", \"cherry\"]\n",
    "\n",
    "# Mapping Type\n",
    "x = {\"name\" : \"John\", \"age\" : 36}\n",
    "\n",
    "# Set Types\n",
    "x = {\"apple\", \"banana\", \"cherry\"}\n",
    "\n",
    "# Boolean Type\n",
    "x = True"
   ]
  },
  {
   "cell_type": "markdown",
   "id": "a63f006bc1c0f006",
   "metadata": {},
   "source": [
    "## 1.2 Basic Operators"
   ]
  },
  {
   "cell_type": "code",
   "execution_count": null,
   "id": "2573d87fde869eb3",
   "metadata": {
    "jupyter": {
     "is_executing": true
    }
   },
   "outputs": [],
   "source": [
    "# Example of basic operators\n",
    "\n",
    "# Arithmetic Operators\n",
    "x = 10\n",
    "y = 5\n",
    "\n",
    "print(x + y) # Addition\n",
    "print(x - y) # Subtraction\n",
    "print(x * y) # Multiplication\n",
    "print(x / y) # Division\n",
    "print(x % y) # Modulus\n",
    "print(x ** y) # Exponentiation\n",
    "print(x // y) # Floor division"
   ]
  },
  {
   "cell_type": "code",
   "execution_count": null,
   "id": "6638a19e5b2afee0",
   "metadata": {},
   "outputs": [],
   "source": [
    "# Assignment Operators\n",
    "x = 5\n",
    "\n",
    "x += 3"
   ]
  },
  {
   "cell_type": "code",
   "execution_count": null,
   "id": "75bd5f6f9065ab72",
   "metadata": {},
   "outputs": [],
   "source": [
    "# Comparison Operators\n",
    "x = 5\n",
    "\n",
    "print(x == 5) # Equal\n",
    "print(x != 5) # Not equal\n",
    "print(x > 5) # Greater than\n",
    "print(x < 5) # Less than\n",
    "print(x >= 5) # Greater than or equal to\n",
    "print(x <= 5) # Less than or equal to"
   ]
  },
  {
   "cell_type": "markdown",
   "id": "97c4827317b33d6e",
   "metadata": {},
   "source": [
    "## 1.3 Statements"
   ]
  },
  {
   "cell_type": "code",
   "execution_count": null,
   "id": "e9077e025a858fc5",
   "metadata": {},
   "outputs": [],
   "source": [
    "# Example of statements\n",
    "\n",
    "# If-Else Statement\n",
    "x = 10\n",
    "y = 5\n",
    "\n",
    "if x > y:\n",
    "    print(\"x is greater than y\")\n",
    "else:\n",
    "    print(\"y is greater than x\")\n",
    "    \n",
    "# For Loop\n",
    "fruits = [\"apple\", \"banana\", \"cherry\"]\n",
    "for x in fruits:\n",
    "    print(x)\n",
    "\n",
    "# While Loop\n",
    "i = 1\n",
    "while i < 6:\n",
    "    print(i)\n",
    "    i += 1\n",
    "\n",
    "# Break Statement\n",
    "i = 1\n",
    "while i < 6:\n",
    "    print(i)\n",
    "    if i == 3:\n",
    "        break\n",
    "    i += 1\n",
    "    \n",
    "# Continue Statement\n",
    "i = 0\n",
    "while i < 6:\n",
    "    i += 1\n",
    "    if i == 3:\n",
    "        continue\n",
    "    print(i)"
   ]
  },
  {
   "cell_type": "markdown",
   "id": "3dd371e9e43c5e24",
   "metadata": {},
   "source": [
    "Highly recommand you to read the book, you can find all the basic concepts of python in the book, as well as some advanced topics and examples. The book is not too long, so you can finish it in a few days."
   ]
  },
  {
   "cell_type": "markdown",
   "id": "14de1cee60aa1559",
   "metadata": {},
   "source": [
    "## 1.4 Some Python Libraries for Data Science and Machine Learning"
   ]
  },
  {
   "cell_type": "markdown",
   "id": "bbb6b9e74f8772b6",
   "metadata": {},
   "source": [
    "1. **Numpy**: NumPy is a library for the Python programming language, adding support for large, multi-dimensional arrays and matrices, along with a large collection of high-level mathematical functions to operate on these arrays.\n",
    "2. **Pandas**: Pandas is a fast, powerful, flexible and easy to use open-source data analysis and data manipulation library built on top of the Python programming language.\n",
    "3. **Matplotlib**: Matplotlib is a plotting library for the Python programming language and its numerical mathematics extension NumPy.\n",
    "4. **Scikit-learn**: Scikit-learn is a free software machine learning library for the Python programming language.\n",
    "5. **PyTorch**: PyTorch is an open source machine learning library based on the Torch library.\n",
    "6. **TensorFlow**: TensorFlow is a free and open-source software library for machine learning.\n",
    "7. **SciPy**: SciPy is a free and open-source Python library used for scientific and technical computing."
   ]
  },
  {
   "cell_type": "code",
   "execution_count": 1,
   "id": "dbc82936e352cc32",
   "metadata": {},
   "outputs": [
    {
     "name": "stdout",
     "output_type": "stream",
     "text": [
      "Collecting scipy\n",
      "  Downloading scipy-1.14.1-cp310-cp310-macosx_14_0_x86_64.whl.metadata (60 kB)\n",
      "Collecting numpy<2.3,>=1.23.5 (from scipy)\n",
      "  Downloading numpy-2.1.1-cp310-cp310-macosx_14_0_x86_64.whl.metadata (60 kB)\n",
      "Downloading scipy-1.14.1-cp310-cp310-macosx_14_0_x86_64.whl (25.5 MB)\n",
      "\u001b[2K   \u001b[90m━━━━━━━━━━━━━━━━━━━━━━━━━━━━━━━━━━━━━━━━\u001b[0m \u001b[32m25.5/25.5 MB\u001b[0m \u001b[31m9.7 MB/s\u001b[0m eta \u001b[36m0:00:00\u001b[0ma \u001b[36m0:00:01\u001b[0m\n",
      "\u001b[?25hDownloading numpy-2.1.1-cp310-cp310-macosx_14_0_x86_64.whl (6.9 MB)\n",
      "\u001b[2K   \u001b[90m━━━━━━━━━━━━━━━━━━━━━━━━━━━━━━━━━━━━━━━━\u001b[0m \u001b[32m6.9/6.9 MB\u001b[0m \u001b[31m11.1 MB/s\u001b[0m eta \u001b[36m0:00:00\u001b[0ma \u001b[36m0:00:01\u001b[0m\n",
      "\u001b[?25hInstalling collected packages: numpy, scipy\n",
      "Successfully installed numpy-2.1.1 scipy-1.14.1\n",
      "Note: you may need to restart the kernel to use updated packages.\n",
      "Collecting matplotlib\n",
      "  Downloading matplotlib-3.9.2-cp310-cp310-macosx_10_12_x86_64.whl.metadata (11 kB)\n",
      "Collecting contourpy>=1.0.1 (from matplotlib)\n",
      "  Downloading contourpy-1.3.0-cp310-cp310-macosx_10_9_x86_64.whl.metadata (5.4 kB)\n",
      "Collecting cycler>=0.10 (from matplotlib)\n",
      "  Downloading cycler-0.12.1-py3-none-any.whl.metadata (3.8 kB)\n",
      "Collecting fonttools>=4.22.0 (from matplotlib)\n",
      "  Downloading fonttools-4.53.1-cp310-cp310-macosx_10_9_universal2.whl.metadata (162 kB)\n",
      "Collecting kiwisolver>=1.3.1 (from matplotlib)\n",
      "  Downloading kiwisolver-1.4.7-cp310-cp310-macosx_10_9_x86_64.whl.metadata (6.3 kB)\n",
      "Requirement already satisfied: numpy>=1.23 in /Users/vvv/opt/anaconda3/envs/myenv/lib/python3.10/site-packages (from matplotlib) (2.1.1)\n",
      "Requirement already satisfied: packaging>=20.0 in /Users/vvv/opt/anaconda3/envs/myenv/lib/python3.10/site-packages (from matplotlib) (24.1)\n",
      "Collecting pillow>=8 (from matplotlib)\n",
      "  Downloading pillow-10.4.0-cp310-cp310-macosx_10_10_x86_64.whl.metadata (9.2 kB)\n",
      "Collecting pyparsing>=2.3.1 (from matplotlib)\n",
      "  Downloading pyparsing-3.1.4-py3-none-any.whl.metadata (5.1 kB)\n",
      "Requirement already satisfied: python-dateutil>=2.7 in /Users/vvv/opt/anaconda3/envs/myenv/lib/python3.10/site-packages (from matplotlib) (2.9.0.post0)\n",
      "Requirement already satisfied: six>=1.5 in /Users/vvv/opt/anaconda3/envs/myenv/lib/python3.10/site-packages (from python-dateutil>=2.7->matplotlib) (1.16.0)\n",
      "Downloading matplotlib-3.9.2-cp310-cp310-macosx_10_12_x86_64.whl (7.9 MB)\n",
      "\u001b[2K   \u001b[90m━━━━━━━━━━━━━━━━━━━━━━━━━━━━━━━━━━━━━━━━\u001b[0m \u001b[32m7.9/7.9 MB\u001b[0m \u001b[31m16.0 MB/s\u001b[0m eta \u001b[36m0:00:00\u001b[0ma \u001b[36m0:00:01\u001b[0m\n",
      "\u001b[?25hDownloading contourpy-1.3.0-cp310-cp310-macosx_10_9_x86_64.whl (265 kB)\n",
      "Downloading cycler-0.12.1-py3-none-any.whl (8.3 kB)\n",
      "Downloading fonttools-4.53.1-cp310-cp310-macosx_10_9_universal2.whl (2.8 MB)\n",
      "\u001b[2K   \u001b[90m━━━━━━━━━━━━━━━━━━━━━━━━━━━━━━━━━━━━━━━━\u001b[0m \u001b[32m2.8/2.8 MB\u001b[0m \u001b[31m7.0 MB/s\u001b[0m eta \u001b[36m0:00:00\u001b[0ma \u001b[36m0:00:01\u001b[0m0m\n",
      "\u001b[?25hDownloading kiwisolver-1.4.7-cp310-cp310-macosx_10_9_x86_64.whl (65 kB)\n",
      "Downloading pillow-10.4.0-cp310-cp310-macosx_10_10_x86_64.whl (3.5 MB)\n",
      "\u001b[2K   \u001b[90m━━━━━━━━━━━━━━━━━━━━━━━━━━━━━━━━━━━━━━━━\u001b[0m \u001b[32m3.5/3.5 MB\u001b[0m \u001b[31m17.6 MB/s\u001b[0m eta \u001b[36m0:00:00\u001b[0ma \u001b[36m0:00:01\u001b[0m\n",
      "\u001b[?25hDownloading pyparsing-3.1.4-py3-none-any.whl (104 kB)\n",
      "Installing collected packages: pyparsing, pillow, kiwisolver, fonttools, cycler, contourpy, matplotlib\n",
      "Successfully installed contourpy-1.3.0 cycler-0.12.1 fonttools-4.53.1 kiwisolver-1.4.7 matplotlib-3.9.2 pillow-10.4.0 pyparsing-3.1.4\n",
      "Note: you may need to restart the kernel to use updated packages.\n",
      "Requirement already satisfied: numpy in /Users/vvv/opt/anaconda3/envs/myenv/lib/python3.10/site-packages (2.1.1)\n",
      "Note: you may need to restart the kernel to use updated packages.\n"
     ]
    },
    {
     "name": "stderr",
     "output_type": "stream",
     "text": [
      "Matplotlib is building the font cache; this may take a moment.\n"
     ]
    },
    {
     "data": {
      "image/png": "[encoded data removed]",
      "text/plain": [
       "<Figure size 1000x500 with 1 Axes>"
      ]
     },
     "metadata": {},
     "output_type": "display_data"
    }
   ],
   "source": [
    "# A simple linear regression example using numpy, scipy, and matplotlib\n",
    "%pip install scipy\n",
    "%pip install matplotlib\n",
    "%pip install numpy\n",
    "\n",
    "import numpy as np\n",
    "# Generate some data\n",
    "np.random.seed(0)\n",
    "X = 2.5 * np.random.randn(100) + 1.5   # Array of 100 values with mean = 1.5, stddev = 2.5\n",
    "res = 0.5 * np.random.randn(100)       # Generate 100 residual terms\n",
    "y = 2 + 0.3 * X + res                  # Actual values of Y\n",
    "\n",
    "# Create a scatter plot\n",
    "import matplotlib.pyplot as plt\n",
    "plt.figure(figsize=(10, 5))\n",
    "plt.scatter(X, y)\n",
    "\n",
    "# Ordinary Least Squares\n",
    "import scipy.stats as stats\n",
    "slope, intercept, r_value, p_value, std_err = stats.linregress(X, y)\n",
    "line = slope*X+intercept\n",
    "plt.plot(X, line, 'r', label='Y = {}X + {}'.format(slope, intercept))\n",
    "plt.legend()\n",
    "plt.show()"
   ]
  },
  {
   "cell_type": "markdown",
   "id": "d47dd4d93a60471c",
   "metadata": {},
   "source": [
    "## 2. Jupyter Notebook"
   ]
  },
  {
   "cell_type": "markdown",
   "id": "a07a6e070de82bfc",
   "metadata": {},
   "source": [
    "## What is Jupyter Notebook?\n",
    "\n",
    "The [Jupyter Notebook](https://jupyter.org/) is an open-source web application that allows you to create and share documents that contain live code, equations, visualizations and narrative text. Uses include: data cleaning and transformation, numerical simulation, statistical modeling, data visualization, machine learning, and much more.\n",
    "\n",
    "Jupyter Notebook is maintained by the people at Project Jupyter. The Jupyter Notebook is a powerful tool for interactively developing and presenting data science projects. A notebook integrates code and its output into a single document that combines visualizations, narrative text, mathematical equations, and other rich media.\n",
    "\n",
    "## Why Jupyter Notebook?\n",
    "\n",
    "1. **Interactive**: The Jupyter Notebook is an interactive environment that allows you to write and execute code in individual cells. This means you can see the results of a block of code right underneath it.\n",
    "\n",
    "2. **Narrative Text**: With the Jupyter Notebook, you can include narrative text with the code. This is useful for explaining what the code is doing, both for your own understanding and for others who might read your notebook.\n",
    "\n",
    "3. **Rich Output**: The Jupyter Notebook allows you to include rich content in your documents, including HTML, images, videos, and more.\n",
    "\n",
    "\n",
    "Here we are using juptyer notebook to write and execute python code. It is a great tool for data science and machine learning projects.\n",
    "\n",
    "![Jupyter](../images/jupyter.png)"
   ]
  },
  {
   "cell_type": "markdown",
   "id": "a408163aa140471e",
   "metadata": {},
   "source": [
    "## 3. Installation: Anaconda"
   ]
  },
  {
   "cell_type": "markdown",
   "id": "67352cb6400d2ba3",
   "metadata": {},
   "source": [
    "## What is Anaconda?\n",
    "\n",
    "[Anaconda](https://www.anaconda.com/) is a free and open-source distribution of the Python and R programming languages for scientific computing (data science, machine learning applications, large-scale data processing, predictive analytics, etc.), that aims to simplify package management and deployment. The distribution includes data-science packages suitable for Windows, Linux, and macOS.\n",
    "\n",
    "## Why Anaconda?\n",
    "\n",
    "1. **Package Management**: Anaconda comes with a package manager called conda that makes it easy to install, update, and remove packages. Conda works with any language, not just Python.\n",
    "2. **Environment Management**: Anaconda allows you to create separate environments containing files, packages, and their dependencies that will not interact with other environments.\n",
    "3. **Cross-Platform**: Anaconda is available for Windows, macOS, and Linux.\n",
    "4. **Ease of Use**: Anaconda is easy to install, and the conda package manager makes it easy to install, update, and remove packages from the command line.\n",
    "5. **Data Science Libraries**: Anaconda comes with a collection of data science libraries pre-installed, including numpy, pandas, scikit-learn, and many others."
   ]
  },
  {
   "cell_type": "markdown",
   "id": "43204c1e0ea1660f",
   "metadata": {},
   "source": [
    "As soon as you install Anaconda, you can write and execute python code easily!"
   ]
  },
  {
   "cell_type": "markdown",
   "id": "6b808ae072487097",
   "metadata": {},
   "source": [
    "## Step by Step Installation Guide"
   ]
  },
  {
   "cell_type": "markdown",
   "id": "6ebc10f3b6e970c3",
   "metadata": {},
   "source": [
    "**Download Anaconda**: Go to the [Anaconda download page](https://www.anaconda.com/products/distribution) and download the appropriate installer for your operating system.  \n",
    "\n",
    "![Anaconda](../images/anaconda.png)\n",
    "\n",
    "[For windows](https://docs.anaconda.com/anaconda/install/windows/), download the .exe file and run the installer. [For macOS](https://docs.anaconda.com/anaconda/install/mac-os/), download the command line installer and run the following command in the terminal:\n",
    "\n",
    "![Anaconda](../images/mac anaconda.jpeg)"
   ]
  },
  {
   "cell_type": "markdown",
   "id": "e33ed9c912567a4d",
   "metadata": {},
   "source": [
    "**Check the command**: After installation, open the terminal and run the following command to check the installation.\n",
    "For Windows, find `Anaconda Prompt` from the start menu:\n",
    "\n",
    "![Anaconda](../images/win_prompt_1.jpg)\n",
    "\n",
    "![Anaconda](../images/win_prompt_2.jpg)\n",
    "\n",
    "For macOS, open the terminal to see:\n",
    "\n",
    "![Anaconda](../images/mac_prompt.png)\n",
    "\n"
   ]
  },
  {
   "cell_type": "markdown",
   "id": "c8092e82deea2722",
   "metadata": {},
   "source": [
    "**Create a new environment**: You can create a new environment named `myenv` by running the following command in the terminal:\n",
    "```bash\n",
    "conda create --name myenv python=3.10\n",
    "```\n",
    "This will create a new environment with python version 3.10. You can replace `myenv` with any name you want.\n",
    "\n",
    "**Activate the environment**: You can activate the environment by running the following command:\n",
    "```bash\n",
    "conda activate myenv\n",
    "```\n",
    "You should see the environment name in the terminal prompt.\n",
    "\n",
    "![Anaconda](../images/mac_myenv.png)"
   ]
  },
  {
   "cell_type": "markdown",
   "id": "9f8fc827b1f56dea",
   "metadata": {},
   "source": [
    "**Install Jupyter**: You can install Jupyter Notebook by running the following command:\n",
    "```bash\n",
    "pip install jupyter\n",
    "```\n",
    "\n",
    "**Open Jupyter lab**: You can open Jupyter lab by running the following command:\n",
    "```bash\n",
    "jupyter lab\n",
    "```\n",
    "This will open a new tab in your default browser with Jupyter lab.\n",
    "\n",
    "![Jupyter](../images/jupyter_lab.png)"
   ]
  },
  {
   "cell_type": "markdown",
   "id": "40e75fb21ddfaa15",
   "metadata": {},
   "source": [
    "Note that you can use `pip` to install any python library you want. You can also use `conda` to install libraries, but `pip` is more commonly used for python libraries.\n",
    "\n",
    "Now create a folder and a notebook in Jupyter lab and start writing and executing python code!\n",
    "\n",
    "![Jupyter](../images/new file.jpeg)\n",
    "\n",
    "![Jupyter](../images/jupyter_hello.png)"
   ]
  }
 ],
 "metadata": {
  "kernelspec": {
   "display_name": "Python 3 (ipykernel)",
   "language": "python",
   "name": "python3"
  },
  "language_info": {
   "codemirror_mode": {
    "name": "ipython",
    "version": 3
   },
   "file_extension": ".py",
   "mimetype": "text/x-python",
   "name": "python",
   "nbconvert_exporter": "python",
   "pygments_lexer": "ipython3",
   "version": "3.10.14"
  }
 },
 "nbformat": 4,
 "nbformat_minor": 5
}
