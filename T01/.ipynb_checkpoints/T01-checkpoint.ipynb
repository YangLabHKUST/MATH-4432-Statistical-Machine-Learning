{
 "cells": [
  {
   "metadata": {},
   "cell_type": "markdown",
   "source": "## 1. Introduction to Python",
   "id": "f895813d4df568d7"
  },
  {
   "metadata": {},
   "cell_type": "markdown",
   "source": "Python is a high-level, interpreted, interactive and object-oriented scripting language. Python is designed to be highly readable. It uses English keywords frequently where as other languages use punctuation, and it has fewer syntactical constructions than other languages.",
   "id": "fa455e0ed96d32d2"
  },
  {
   "metadata": {},
   "cell_type": "markdown",
   "source": [
    "Basic Syntax:\n",
    "\n",
    "Python is a case sensitive language. So, Print and print are different. Here is a simple line of code that prints Hello World.\n",
    "```python\n",
    "print(\"Hello World\")\n",
    "```\n",
    "\n",
    "Python uses indentation to define code blocks, instead of brackets. The standard indentation is 4 spaces, although tabs and any other space size will work, as long as it is consistent. Here is an example of code block in Python.\n",
    "```python\n",
    "if True:\n",
    "    print(\"True\")\n",
    "else:\n",
    "    print(\"False\")\n",
    "```\n",
    "\n",
    "Recommanded book: [Python crash course](https://github.com/shahadot786/Python-Books/blob/master/python-crash-course.pdf)\n",
    "\n",
    "![Python crash course](../images/book.png)"
   ],
   "id": "65f2bfbda5640b79"
  },
  {
   "metadata": {},
   "cell_type": "markdown",
   "source": [
    "## 1.1 Data Types\n",
    "\n",
    "Python has the following data types built-in by default, in these categories:\n",
    "\n",
    "1. **Text Type**:\tstr\n",
    "2. **Numeric Types**:\tint, float, complex\n",
    "3. **Sequence Types**:\tlist, tuple, range\n",
    "4. **Mapping Type**:\tdict\n",
    "5. **Set Types**:\tset, frozenset\n",
    "6. **Boolean Type**:\tbool\n",
    "..."
   ],
   "id": "a5bc3619e6b6467a"
  },
  {
   "metadata": {},
   "cell_type": "code",
   "outputs": [],
   "execution_count": null,
   "source": [
    "# Example of data types\n",
    "# Text Type\n",
    "x = \"Hello World\"\n",
    "\n",
    "# Numeric Types\n",
    "x = 20\n",
    "\n",
    "# Sequence Types\n",
    "x = [\"apple\", \"banana\", \"cherry\"]\n",
    "\n",
    "# Mapping Type\n",
    "x = {\"name\" : \"John\", \"age\" : 36}\n",
    "\n",
    "# Set Types\n",
    "x = {\"apple\", \"banana\", \"cherry\"}\n",
    "\n",
    "# Boolean Type\n",
    "x = True"
   ],
   "id": "22ed82a0909d8691"
  },
  {
   "metadata": {},
   "cell_type": "markdown",
   "source": "## 1.2 Basic Operators",
   "id": "a63f006bc1c0f006"
  },
  {
   "metadata": {
    "jupyter": {
     "is_executing": true
    }
   },
   "cell_type": "code",
   "source": [
    "# Example of basic operators\n",
    "\n",
    "# Arithmetic Operators\n",
    "x = 10\n",
    "y = 5\n",
    "\n",
    "print(x + y) # Addition\n",
    "print(x - y) # Subtraction\n",
    "print(x * y) # Multiplication\n",
    "print(x / y) # Division\n",
    "print(x % y) # Modulus\n",
    "print(x ** y) # Exponentiation\n",
    "print(x // y) # Floor division"
   ],
   "id": "2573d87fde869eb3",
   "outputs": [],
   "execution_count": null
  },
  {
   "metadata": {},
   "cell_type": "code",
   "outputs": [],
   "execution_count": null,
   "source": [
    "# Assignment Operators\n",
    "x = 5\n",
    "\n",
    "x += 3"
   ],
   "id": "6638a19e5b2afee0"
  },
  {
   "metadata": {},
   "cell_type": "code",
   "outputs": [],
   "execution_count": null,
   "source": [
    "# Comparison Operators\n",
    "x = 5\n",
    "\n",
    "print(x == 5) # Equal\n",
    "print(x != 5) # Not equal\n",
    "print(x > 5) # Greater than\n",
    "print(x < 5) # Less than\n",
    "print(x >= 5) # Greater than or equal to\n",
    "print(x <= 5) # Less than or equal to"
   ],
   "id": "75bd5f6f9065ab72"
  },
  {
   "metadata": {},
   "cell_type": "markdown",
   "source": "## 1.3 Statements",
   "id": "97c4827317b33d6e"
  },
  {
   "metadata": {},
   "cell_type": "code",
   "outputs": [],
   "execution_count": null,
   "source": [
    "# Example of statements\n",
    "\n",
    "# If-Else Statement\n",
    "x = 10\n",
    "y = 5\n",
    "\n",
    "if x > y:\n",
    "    print(\"x is greater than y\")\n",
    "else:\n",
    "    print(\"y is greater than x\")\n",
    "    \n",
    "# For Loop\n",
    "fruits = [\"apple\", \"banana\", \"cherry\"]\n",
    "for x in fruits:\n",
    "    print(x)\n",
    "\n",
    "# While Loop\n",
    "i = 1\n",
    "while i < 6:\n",
    "    print(i)\n",
    "    i += 1\n",
    "\n",
    "# Break Statement\n",
    "i = 1\n",
    "while i < 6:\n",
    "    print(i)\n",
    "    if i == 3:\n",
    "        break\n",
    "    i += 1\n",
    "    \n",
    "# Continue Statement\n",
    "i = 0\n",
    "while i < 6:\n",
    "    i += 1\n",
    "    if i == 3:\n",
    "        continue\n",
    "    print(i)"
   ],
   "id": "e9077e025a858fc5"
  },
  {
   "metadata": {},
   "cell_type": "markdown",
   "source": "Highly recommand you to read the book, you can find all the basic concepts of python in the book, as well as some advanced topics and examples. The book is not too long, so you can finish it in a few days.",
   "id": "3dd371e9e43c5e24"
  },
  {
   "metadata": {},
   "cell_type": "markdown",
   "source": "## 1.4 Some Python Libraries for Data Science and Machine Learning",
   "id": "14de1cee60aa1559"
  },
  {
   "metadata": {},
   "cell_type": "markdown",
   "source": [
    "1. **Numpy**: NumPy is a library for the Python programming language, adding support for large, multi-dimensional arrays and matrices, along with a large collection of high-level mathematical functions to operate on these arrays.\n",
    "2. **Pandas**: Pandas is a fast, powerful, flexible and easy to use open-source data analysis and data manipulation library built on top of the Python programming language.\n",
    "3. **Matplotlib**: Matplotlib is a plotting library for the Python programming language and its numerical mathematics extension NumPy.\n",
    "4. **Scikit-learn**: Scikit-learn is a free software machine learning library for the Python programming language.\n",
    "5. **PyTorch**: PyTorch is an open source machine learning library based on the Torch library.\n",
    "6. **TensorFlow**: TensorFlow is a free and open-source software library for machine learning.\n",
    "7. **SciPy**: SciPy is a free and open-source Python library used for scientific and technical computing."
   ],
   "id": "bbb6b9e74f8772b6"
  },
  {
   "metadata": {},
   "cell_type": "code",
   "outputs": [],
   "execution_count": null,
   "source": [
    "# A simple linear regression example using numpy, scipy, and matplotlib\n",
    "import numpy as np\n",
    "\n",
    "# Generate some data\n",
    "np.random.seed(0)\n",
    "X = 2.5 * np.random.randn(100) + 1.5   # Array of 100 values with mean = 1.5, stddev = 2.5\n",
    "res = 0.5 * np.random.randn(100)       # Generate 100 residual terms\n",
    "y = 2 + 0.3 * X + res                  # Actual values of Y\n",
    "\n",
    "# Create a scatter plot\n",
    "import matplotlib.pyplot as plt\n",
    "plt.figure(figsize=(10, 5))\n",
    "plt.scatter(X, y)\n",
    "\n",
    "# Ordinary Least Squares\n",
    "import scipy.stats as stats\n",
    "slope, intercept, r_value, p_value, std_err = stats.linregress(X, y)\n",
    "line = slope*X+intercept\n",
    "plt.plot(X, line, 'r', label='Y = {}X + {}'.format(slope, intercept))\n",
    "plt.legend()\n",
    "plt.show()"
   ],
   "id": "dbc82936e352cc32"
  },
  {
   "metadata": {},
   "cell_type": "markdown",
   "source": "## 2. Jupyter Notebook",
   "id": "d47dd4d93a60471c"
  },
  {
   "metadata": {},
   "cell_type": "markdown",
   "source": [
    "## What is Jupyter Notebook?\n",
    "\n",
    "The [Jupyter Notebook](https://jupyter.org/) is an open-source web application that allows you to create and share documents that contain live code, equations, visualizations and narrative text. Uses include: data cleaning and transformation, numerical simulation, statistical modeling, data visualization, machine learning, and much more.\n",
    "\n",
    "Jupyter Notebook is maintained by the people at Project Jupyter. The Jupyter Notebook is a powerful tool for interactively developing and presenting data science projects. A notebook integrates code and its output into a single document that combines visualizations, narrative text, mathematical equations, and other rich media.\n",
    "\n",
    "## Why Jupyter Notebook?\n",
    "\n",
    "1. **Interactive**: The Jupyter Notebook is an interactive environment that allows you to write and execute code in individual cells. This means you can see the results of a block of code right underneath it.\n",
    "\n",
    "2. **Narrative Text**: With the Jupyter Notebook, you can include narrative text with the code. This is useful for explaining what the code is doing, both for your own understanding and for others who might read your notebook.\n",
    "\n",
    "3. **Rich Output**: The Jupyter Notebook allows you to include rich content in your documents, including HTML, images, videos, and more.\n",
    "\n",
    "\n",
    "Here we are using juptyer notebook to write and execute python code. It is a great tool for data science and machine learning projects.\n",
    "\n",
    "![Jupyter](../images/jupyter.png)"
   ],
   "id": "a07a6e070de82bfc"
  },
  {
   "metadata": {},
   "cell_type": "markdown",
   "source": "## 3. Installation: Anaconda",
   "id": "a408163aa140471e"
  },
  {
   "metadata": {},
   "cell_type": "markdown",
   "source": [
    "## What is Anaconda?\n",
    "\n",
    "[Anaconda](https://www.anaconda.com/) is a free and open-source distribution of the Python and R programming languages for scientific computing (data science, machine learning applications, large-scale data processing, predictive analytics, etc.), that aims to simplify package management and deployment. The distribution includes data-science packages suitable for Windows, Linux, and macOS.\n",
    "\n",
    "## Why Anaconda?\n",
    "\n",
    "1. **Package Management**: Anaconda comes with a package manager called conda that makes it easy to install, update, and remove packages. Conda works with any language, not just Python.\n",
    "2. **Environment Management**: Anaconda allows you to create separate environments containing files, packages, and their dependencies that will not interact with other environments.\n",
    "3. **Cross-Platform**: Anaconda is available for Windows, macOS, and Linux.\n",
    "4. **Ease of Use**: Anaconda is easy to install, and the conda package manager makes it easy to install, update, and remove packages from the command line.\n",
    "5. **Data Science Libraries**: Anaconda comes with a collection of data science libraries pre-installed, including numpy, pandas, scikit-learn, and many others."
   ],
   "id": "67352cb6400d2ba3"
  },
  {
   "metadata": {},
   "cell_type": "markdown",
   "source": "As soon as you install Anaconda, you can write and execute python code easily!",
   "id": "43204c1e0ea1660f"
  },
  {
   "metadata": {},
   "cell_type": "markdown",
   "source": "## Step by Step Installation Guide",
   "id": "6b808ae072487097"
  },
  {
   "metadata": {},
   "cell_type": "markdown",
   "source": [
    "**Download Anaconda**: Go to the [Anaconda download page](https://www.anaconda.com/products/distribution) and download the appropriate installer for your operating system.  \n",
    "\n",
    "![Anaconda](../images/anaconda.png)\n",
    "\n",
    "[For windows](https://docs.anaconda.com/anaconda/install/windows/), download the .exe file and run the installer. [For macOS](https://docs.anaconda.com/anaconda/install/mac-os/), download the command line installer and run the following command in the terminal:\n",
    "\n",
    "![Anaconda](../images/mac anaconda.jpeg)"
   ],
   "id": "6ebc10f3b6e970c3"
  },
  {
   "metadata": {},
   "cell_type": "markdown",
   "source": [
    "**Check the command**: After installation, open the terminal and run the following command to check the installation.\n",
    "For Windows, find `Anaconda Prompt` from the start menu:\n",
    "\n",
    "![Anaconda](../images/win_prompt_1.jpg)\n",
    "\n",
    "![Anaconda](../images/win_prompt_2.jpg)\n",
    "\n",
    "For macOS, open the terminal to see:\n",
    "\n",
    "![Anaconda](../images/mac_prompt.png)\n",
    "\n"
   ],
   "id": "e33ed9c912567a4d"
  },
  {
   "metadata": {},
   "cell_type": "markdown",
   "source": [
    "**Create a new environment**: You can create a new environment named `myenv` by running the following command in the terminal:\n",
    "```bash\n",
    "conda create --name myenv python=3.10\n",
    "```\n",
    "This will create a new environment with python version 3.10. You can replace `myenv` with any name you want.\n",
    "\n",
    "**Activate the environment**: You can activate the environment by running the following command:\n",
    "```bash\n",
    "conda activate myenv\n",
    "```\n",
    "You should see the environment name in the terminal prompt.\n",
    "\n",
    "![Anaconda](../images/mac_myenv.png)"
   ],
   "id": "c8092e82deea2722"
  },
  {
   "metadata": {},
   "cell_type": "markdown",
   "source": [
    "**Install Jupyter**: You can install Jupyter Notebook by running the following command:\n",
    "```bash\n",
    "pip install jupyter\n",
    "```\n",
    "\n",
    "**Open Jupyter lab**: You can open Jupyter lab by running the following command:\n",
    "```bash\n",
    "jupyter lab\n",
    "```\n",
    "This will open a new tab in your default browser with Jupyter lab.\n",
    "\n",
    "![Jupyter](../images/jupyter_lab.png)"
   ],
   "id": "9f8fc827b1f56dea"
  },
  {
   "metadata": {},
   "cell_type": "markdown",
   "source": [
    "Note that you can use `pip` to install any python library you want. You can also use `conda` to install libraries, but `pip` is more commonly used for python libraries.\n",
    "\n",
    "Now create a folder and a notebook in Jupyter lab and start writing and executing python code!\n",
    "\n",
    "![Jupyter](../images/new file.jpeg)\n",
    "\n",
    "![Jupyter](../images/jupyter_hello.png)"
   ],
   "id": "40e75fb21ddfaa15"
  }
 ],
 "metadata": {
  "kernelspec": {
   "display_name": "Python 3",
   "language": "python",
   "name": "python3"
  },
  "language_info": {
   "codemirror_mode": {
    "name": "ipython",
    "version": 2
   },
   "file_extension": ".py",
   "mimetype": "text/x-python",
   "name": "python",
   "nbconvert_exporter": "python",
   "pygments_lexer": "ipython2",
   "version": "2.7.6"
  }
 },
 "nbformat": 4,
 "nbformat_minor": 5
}
