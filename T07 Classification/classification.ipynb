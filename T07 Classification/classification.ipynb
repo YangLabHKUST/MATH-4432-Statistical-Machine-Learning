{
 "cells": [
  {
   "metadata": {},
   "cell_type": "markdown",
   "source": "# Classification Methods",
   "id": "14c1d9516d3b8c46"
  },
  {
   "metadata": {
    "ExecuteTime": {
     "end_time": "2024-10-17T18:12:30.923238Z",
     "start_time": "2024-10-17T18:12:30.920961Z"
    }
   },
   "cell_type": "code",
   "source": [
    "import random\n",
    "\n",
    "random.seed(20231017)"
   ],
   "id": "716d61c1938e3ea",
   "outputs": [],
   "execution_count": 2
  },
  {
   "metadata": {},
   "cell_type": "markdown",
   "source": [
    "In this tutorial, we will introduce four widely-used classification methods and how to use them in R programming language.\n",
    "\n",
    "+ Logistic regression\n",
    "+ LDA\n",
    "+ QDA\n",
    "+ KNN\n",
    "\n",
    "We will also introduce the receiver operating characteristic curve (ROC curve) to evaluate the performances of the methods.\n",
    "\n",
    "We use `Smarket` data from the `ISLP` library to demonstrate."
   ],
   "id": "4a38726959ca8f74"
  },
  {
   "metadata": {
    "ExecuteTime": {
     "end_time": "2024-10-17T18:13:35.535644Z",
     "start_time": "2024-10-17T18:13:27.119756Z"
    }
   },
   "cell_type": "code",
   "source": [
    "import numpy as np\n",
    "import pandas as pd\n",
    "from matplotlib.pyplot import subplots\n",
    "import statsmodels.api as sm\n",
    "from ISLP import load_data\n",
    "from ISLP.models import (ModelSpec as MS,summarize)\n",
    "from ISLP import confusion_table\n",
    "from ISLP.models import contrast\n",
    "from sklearn.discriminant_analysis import \\\n",
    "     (LinearDiscriminantAnalysis as LDA,\n",
    "      QuadraticDiscriminantAnalysis as QDA)\n",
    "from sklearn.naive_bayes import GaussianNB\n",
    "from sklearn.neighbors import KNeighborsClassifier\n",
    "from sklearn.preprocessing import StandardScaler\n",
    "from sklearn.model_selection import train_test_split\n",
    "from sklearn.linear_model import LogisticRegression"
   ],
   "id": "7f0faff6e2999572",
   "outputs": [],
   "execution_count": 4
  },
  {
   "metadata": {
    "ExecuteTime": {
     "end_time": "2024-10-17T18:13:38.415338Z",
     "start_time": "2024-10-17T18:13:38.398948Z"
    }
   },
   "cell_type": "code",
   "source": [
    "Smarket = load_data('Smarket')\n",
    "# Get the dimensions of the DataFrame\n",
    "print(Smarket.shape)"
   ],
   "id": "864783a5a86a622c",
   "outputs": [
    {
     "name": "stdout",
     "output_type": "stream",
     "text": [
      "(1250, 9)\n"
     ]
    }
   ],
   "execution_count": 5
  },
  {
   "metadata": {
    "ExecuteTime": {
     "end_time": "2024-10-17T18:13:42.376818Z",
     "start_time": "2024-10-17T18:13:42.365210Z"
    }
   },
   "cell_type": "code",
   "source": "Smarket.head()",
   "id": "70d530d0b117705b",
   "outputs": [
    {
     "data": {
      "text/plain": [
       "   Year   Lag1   Lag2   Lag3   Lag4   Lag5  Volume  Today Direction\n",
       "0  2001  0.381 -0.192 -2.624 -1.055  5.010  1.1913  0.959        Up\n",
       "1  2001  0.959  0.381 -0.192 -2.624 -1.055  1.2965  1.032        Up\n",
       "2  2001  1.032  0.959  0.381 -0.192 -2.624  1.4112 -0.623      Down\n",
       "3  2001 -0.623  1.032  0.959  0.381 -0.192  1.2760  0.614        Up\n",
       "4  2001  0.614 -0.623  1.032  0.959  0.381  1.2057  0.213        Up"
      ],
      "text/html": [
       "<div>\n",
       "<style scoped>\n",
       "    .dataframe tbody tr th:only-of-type {\n",
       "        vertical-align: middle;\n",
       "    }\n",
       "\n",
       "    .dataframe tbody tr th {\n",
       "        vertical-align: top;\n",
       "    }\n",
       "\n",
       "    .dataframe thead th {\n",
       "        text-align: right;\n",
       "    }\n",
       "</style>\n",
       "<table border=\"1\" class=\"dataframe\">\n",
       "  <thead>\n",
       "    <tr style=\"text-align: right;\">\n",
       "      <th></th>\n",
       "      <th>Year</th>\n",
       "      <th>Lag1</th>\n",
       "      <th>Lag2</th>\n",
       "      <th>Lag3</th>\n",
       "      <th>Lag4</th>\n",
       "      <th>Lag5</th>\n",
       "      <th>Volume</th>\n",
       "      <th>Today</th>\n",
       "      <th>Direction</th>\n",
       "    </tr>\n",
       "  </thead>\n",
       "  <tbody>\n",
       "    <tr>\n",
       "      <th>0</th>\n",
       "      <td>2001</td>\n",
       "      <td>0.381</td>\n",
       "      <td>-0.192</td>\n",
       "      <td>-2.624</td>\n",
       "      <td>-1.055</td>\n",
       "      <td>5.010</td>\n",
       "      <td>1.1913</td>\n",
       "      <td>0.959</td>\n",
       "      <td>Up</td>\n",
       "    </tr>\n",
       "    <tr>\n",
       "      <th>1</th>\n",
       "      <td>2001</td>\n",
       "      <td>0.959</td>\n",
       "      <td>0.381</td>\n",
       "      <td>-0.192</td>\n",
       "      <td>-2.624</td>\n",
       "      <td>-1.055</td>\n",
       "      <td>1.2965</td>\n",
       "      <td>1.032</td>\n",
       "      <td>Up</td>\n",
       "    </tr>\n",
       "    <tr>\n",
       "      <th>2</th>\n",
       "      <td>2001</td>\n",
       "      <td>1.032</td>\n",
       "      <td>0.959</td>\n",
       "      <td>0.381</td>\n",
       "      <td>-0.192</td>\n",
       "      <td>-2.624</td>\n",
       "      <td>1.4112</td>\n",
       "      <td>-0.623</td>\n",
       "      <td>Down</td>\n",
       "    </tr>\n",
       "    <tr>\n",
       "      <th>3</th>\n",
       "      <td>2001</td>\n",
       "      <td>-0.623</td>\n",
       "      <td>1.032</td>\n",
       "      <td>0.959</td>\n",
       "      <td>0.381</td>\n",
       "      <td>-0.192</td>\n",
       "      <td>1.2760</td>\n",
       "      <td>0.614</td>\n",
       "      <td>Up</td>\n",
       "    </tr>\n",
       "    <tr>\n",
       "      <th>4</th>\n",
       "      <td>2001</td>\n",
       "      <td>0.614</td>\n",
       "      <td>-0.623</td>\n",
       "      <td>1.032</td>\n",
       "      <td>0.959</td>\n",
       "      <td>0.381</td>\n",
       "      <td>1.2057</td>\n",
       "      <td>0.213</td>\n",
       "      <td>Up</td>\n",
       "    </tr>\n",
       "  </tbody>\n",
       "</table>\n",
       "</div>"
      ]
     },
     "execution_count": 6,
     "metadata": {},
     "output_type": "execute_result"
    }
   ],
   "execution_count": 6
  },
  {
   "metadata": {
    "ExecuteTime": {
     "end_time": "2024-10-17T18:14:13.108223Z",
     "start_time": "2024-10-17T18:14:13.091555Z"
    }
   },
   "cell_type": "code",
   "source": "Smarket.describe()",
   "id": "30910804a50a062c",
   "outputs": [
    {
     "data": {
      "text/plain": [
       "              Year         Lag1         Lag2         Lag3         Lag4  \\\n",
       "count  1250.000000  1250.000000  1250.000000  1250.000000  1250.000000   \n",
       "mean   2003.016000     0.003834     0.003919     0.001716     0.001636   \n",
       "std       1.409018     1.136299     1.136280     1.138703     1.138774   \n",
       "min    2001.000000    -4.922000    -4.922000    -4.922000    -4.922000   \n",
       "25%    2002.000000    -0.639500    -0.639500    -0.640000    -0.640000   \n",
       "50%    2003.000000     0.039000     0.039000     0.038500     0.038500   \n",
       "75%    2004.000000     0.596750     0.596750     0.596750     0.596750   \n",
       "max    2005.000000     5.733000     5.733000     5.733000     5.733000   \n",
       "\n",
       "             Lag5       Volume        Today  \n",
       "count  1250.00000  1250.000000  1250.000000  \n",
       "mean      0.00561     1.478305     0.003138  \n",
       "std       1.14755     0.360357     1.136334  \n",
       "min      -4.92200     0.356070    -4.922000  \n",
       "25%      -0.64000     1.257400    -0.639500  \n",
       "50%       0.03850     1.422950     0.038500  \n",
       "75%       0.59700     1.641675     0.596750  \n",
       "max       5.73300     3.152470     5.733000  "
      ],
      "text/html": [
       "<div>\n",
       "<style scoped>\n",
       "    .dataframe tbody tr th:only-of-type {\n",
       "        vertical-align: middle;\n",
       "    }\n",
       "\n",
       "    .dataframe tbody tr th {\n",
       "        vertical-align: top;\n",
       "    }\n",
       "\n",
       "    .dataframe thead th {\n",
       "        text-align: right;\n",
       "    }\n",
       "</style>\n",
       "<table border=\"1\" class=\"dataframe\">\n",
       "  <thead>\n",
       "    <tr style=\"text-align: right;\">\n",
       "      <th></th>\n",
       "      <th>Year</th>\n",
       "      <th>Lag1</th>\n",
       "      <th>Lag2</th>\n",
       "      <th>Lag3</th>\n",
       "      <th>Lag4</th>\n",
       "      <th>Lag5</th>\n",
       "      <th>Volume</th>\n",
       "      <th>Today</th>\n",
       "    </tr>\n",
       "  </thead>\n",
       "  <tbody>\n",
       "    <tr>\n",
       "      <th>count</th>\n",
       "      <td>1250.000000</td>\n",
       "      <td>1250.000000</td>\n",
       "      <td>1250.000000</td>\n",
       "      <td>1250.000000</td>\n",
       "      <td>1250.000000</td>\n",
       "      <td>1250.00000</td>\n",
       "      <td>1250.000000</td>\n",
       "      <td>1250.000000</td>\n",
       "    </tr>\n",
       "    <tr>\n",
       "      <th>mean</th>\n",
       "      <td>2003.016000</td>\n",
       "      <td>0.003834</td>\n",
       "      <td>0.003919</td>\n",
       "      <td>0.001716</td>\n",
       "      <td>0.001636</td>\n",
       "      <td>0.00561</td>\n",
       "      <td>1.478305</td>\n",
       "      <td>0.003138</td>\n",
       "    </tr>\n",
       "    <tr>\n",
       "      <th>std</th>\n",
       "      <td>1.409018</td>\n",
       "      <td>1.136299</td>\n",
       "      <td>1.136280</td>\n",
       "      <td>1.138703</td>\n",
       "      <td>1.138774</td>\n",
       "      <td>1.14755</td>\n",
       "      <td>0.360357</td>\n",
       "      <td>1.136334</td>\n",
       "    </tr>\n",
       "    <tr>\n",
       "      <th>min</th>\n",
       "      <td>2001.000000</td>\n",
       "      <td>-4.922000</td>\n",
       "      <td>-4.922000</td>\n",
       "      <td>-4.922000</td>\n",
       "      <td>-4.922000</td>\n",
       "      <td>-4.92200</td>\n",
       "      <td>0.356070</td>\n",
       "      <td>-4.922000</td>\n",
       "    </tr>\n",
       "    <tr>\n",
       "      <th>25%</th>\n",
       "      <td>2002.000000</td>\n",
       "      <td>-0.639500</td>\n",
       "      <td>-0.639500</td>\n",
       "      <td>-0.640000</td>\n",
       "      <td>-0.640000</td>\n",
       "      <td>-0.64000</td>\n",
       "      <td>1.257400</td>\n",
       "      <td>-0.639500</td>\n",
       "    </tr>\n",
       "    <tr>\n",
       "      <th>50%</th>\n",
       "      <td>2003.000000</td>\n",
       "      <td>0.039000</td>\n",
       "      <td>0.039000</td>\n",
       "      <td>0.038500</td>\n",
       "      <td>0.038500</td>\n",
       "      <td>0.03850</td>\n",
       "      <td>1.422950</td>\n",
       "      <td>0.038500</td>\n",
       "    </tr>\n",
       "    <tr>\n",
       "      <th>75%</th>\n",
       "      <td>2004.000000</td>\n",
       "      <td>0.596750</td>\n",
       "      <td>0.596750</td>\n",
       "      <td>0.596750</td>\n",
       "      <td>0.596750</td>\n",
       "      <td>0.59700</td>\n",
       "      <td>1.641675</td>\n",
       "      <td>0.596750</td>\n",
       "    </tr>\n",
       "    <tr>\n",
       "      <th>max</th>\n",
       "      <td>2005.000000</td>\n",
       "      <td>5.733000</td>\n",
       "      <td>5.733000</td>\n",
       "      <td>5.733000</td>\n",
       "      <td>5.733000</td>\n",
       "      <td>5.73300</td>\n",
       "      <td>3.152470</td>\n",
       "      <td>5.733000</td>\n",
       "    </tr>\n",
       "  </tbody>\n",
       "</table>\n",
       "</div>"
      ]
     },
     "execution_count": 7,
     "metadata": {},
     "output_type": "execute_result"
    }
   ],
   "execution_count": 7
  },
  {
   "metadata": {},
   "cell_type": "markdown",
   "source": [
    "## Logistic regression\n",
    "\n",
    "Next, we will fit a logistic regression model in order to predict  `Direction` using  `Lag1` through `Lag5` and  `Volume`. The `sm.GLM()` function fits **generalized linear models**, a class of models that includes **logistic regression**. Alternatively, the function `sm.Logit()` fits a logistic regression model directly. The syntax of `sm.GLM()` is similar to that of `sm.OLS()`, except that we must pass in the argument `family=sm.families.Binomial()` in order to tell statsmodels to run a logistic regression rather than some other type of generalized linear model."
   ],
   "id": "392a16470039c759"
  },
  {
   "metadata": {
    "ExecuteTime": {
     "end_time": "2024-10-17T18:15:00.712008Z",
     "start_time": "2024-10-17T18:14:59.957770Z"
    }
   },
   "cell_type": "code",
   "source": [
    "allvars = Smarket.columns.drop(['Today', 'Direction', 'Year'])\n",
    "design = MS(allvars)\n",
    "X = design.fit_transform(Smarket)\n",
    "y = Smarket.Direction == 'Up'\n",
    "glm = sm.GLM(y,\n",
    "             X,\n",
    "             family=sm.families.Binomial())\n",
    "results = glm.fit()\n",
    "summarize(results)"
   ],
   "id": "85dd1664731ea48d",
   "outputs": [
    {
     "data": {
      "text/plain": [
       "             coef  std err      z  P>|z|\n",
       "intercept -0.1260    0.241 -0.523  0.601\n",
       "Lag1      -0.0731    0.050 -1.457  0.145\n",
       "Lag2      -0.0423    0.050 -0.845  0.398\n",
       "Lag3       0.0111    0.050  0.222  0.824\n",
       "Lag4       0.0094    0.050  0.187  0.851\n",
       "Lag5       0.0103    0.050  0.208  0.835\n",
       "Volume     0.1354    0.158  0.855  0.392"
      ],
      "text/html": [
       "<div>\n",
       "<style scoped>\n",
       "    .dataframe tbody tr th:only-of-type {\n",
       "        vertical-align: middle;\n",
       "    }\n",
       "\n",
       "    .dataframe tbody tr th {\n",
       "        vertical-align: top;\n",
       "    }\n",
       "\n",
       "    .dataframe thead th {\n",
       "        text-align: right;\n",
       "    }\n",
       "</style>\n",
       "<table border=\"1\" class=\"dataframe\">\n",
       "  <thead>\n",
       "    <tr style=\"text-align: right;\">\n",
       "      <th></th>\n",
       "      <th>coef</th>\n",
       "      <th>std err</th>\n",
       "      <th>z</th>\n",
       "      <th>P&gt;|z|</th>\n",
       "    </tr>\n",
       "  </thead>\n",
       "  <tbody>\n",
       "    <tr>\n",
       "      <th>intercept</th>\n",
       "      <td>-0.1260</td>\n",
       "      <td>0.241</td>\n",
       "      <td>-0.523</td>\n",
       "      <td>0.601</td>\n",
       "    </tr>\n",
       "    <tr>\n",
       "      <th>Lag1</th>\n",
       "      <td>-0.0731</td>\n",
       "      <td>0.050</td>\n",
       "      <td>-1.457</td>\n",
       "      <td>0.145</td>\n",
       "    </tr>\n",
       "    <tr>\n",
       "      <th>Lag2</th>\n",
       "      <td>-0.0423</td>\n",
       "      <td>0.050</td>\n",
       "      <td>-0.845</td>\n",
       "      <td>0.398</td>\n",
       "    </tr>\n",
       "    <tr>\n",
       "      <th>Lag3</th>\n",
       "      <td>0.0111</td>\n",
       "      <td>0.050</td>\n",
       "      <td>0.222</td>\n",
       "      <td>0.824</td>\n",
       "    </tr>\n",
       "    <tr>\n",
       "      <th>Lag4</th>\n",
       "      <td>0.0094</td>\n",
       "      <td>0.050</td>\n",
       "      <td>0.187</td>\n",
       "      <td>0.851</td>\n",
       "    </tr>\n",
       "    <tr>\n",
       "      <th>Lag5</th>\n",
       "      <td>0.0103</td>\n",
       "      <td>0.050</td>\n",
       "      <td>0.208</td>\n",
       "      <td>0.835</td>\n",
       "    </tr>\n",
       "    <tr>\n",
       "      <th>Volume</th>\n",
       "      <td>0.1354</td>\n",
       "      <td>0.158</td>\n",
       "      <td>0.855</td>\n",
       "      <td>0.392</td>\n",
       "    </tr>\n",
       "  </tbody>\n",
       "</table>\n",
       "</div>"
      ]
     },
     "execution_count": 8,
     "metadata": {},
     "output_type": "execute_result"
    }
   ],
   "execution_count": 8
  },
  {
   "metadata": {
    "ExecuteTime": {
     "end_time": "2024-10-17T18:15:15.188844Z",
     "start_time": "2024-10-17T18:15:15.183192Z"
    }
   },
   "cell_type": "code",
   "source": "results.params",
   "id": "cb7621332c973567",
   "outputs": [
    {
     "data": {
      "text/plain": [
       "intercept   -0.126000\n",
       "Lag1        -0.073074\n",
       "Lag2        -0.042301\n",
       "Lag3         0.011085\n",
       "Lag4         0.009359\n",
       "Lag5         0.010313\n",
       "Volume       0.135441\n",
       "dtype: float64"
      ]
     },
     "execution_count": 9,
     "metadata": {},
     "output_type": "execute_result"
    }
   ],
   "execution_count": 9
  },
  {
   "metadata": {},
   "cell_type": "markdown",
   "source": "+ The `predict()` function can be used to predict the probability that the market will go up, given values of the predictors.",
   "id": "4755d03dbe4ae53"
  },
  {
   "metadata": {
    "ExecuteTime": {
     "end_time": "2024-10-17T18:15:32.549807Z",
     "start_time": "2024-10-17T18:15:32.546060Z"
    }
   },
   "cell_type": "code",
   "source": [
    "probs = results.predict()\n",
    "probs[:10]"
   ],
   "id": "8a715f5912cc2730",
   "outputs": [
    {
     "data": {
      "text/plain": [
       "array([0.50708413, 0.48146788, 0.48113883, 0.51522236, 0.51078116,\n",
       "       0.50695646, 0.49265087, 0.50922916, 0.51761353, 0.48883778])"
      ]
     },
     "execution_count": 10,
     "metadata": {},
     "output_type": "execute_result"
    }
   ],
   "execution_count": 10
  },
  {
   "metadata": {},
   "cell_type": "markdown",
   "source": "+ The logit values, e.g. $log(\\frac{Pr(Y=1|X)}{Pr(Y=0|X)})$.",
   "id": "afb24de9d81f790"
  },
  {
   "metadata": {
    "ExecuteTime": {
     "end_time": "2024-10-17T18:15:48.314318Z",
     "start_time": "2024-10-17T18:15:48.310817Z"
    }
   },
   "cell_type": "code",
   "source": "np.log(probs[:10] / (1 - probs[:10]))",
   "id": "c6d587401e206320",
   "outputs": [
    {
     "data": {
      "text/plain": [
       "array([ 0.02833843, -0.07416246, -0.07548048,  0.06090825,  0.04313134,\n",
       "        0.02782764, -0.02939862,  0.03692083,  0.07048327, -0.0446563 ])"
      ]
     },
     "execution_count": 11,
     "metadata": {},
     "output_type": "execute_result"
    }
   ],
   "execution_count": 11
  },
  {
   "metadata": {},
   "cell_type": "markdown",
   "source": "+ We can check the prediction performance by producing a table and compute the accuracy.",
   "id": "d82d522ae26ba51c"
  },
  {
   "metadata": {
    "ExecuteTime": {
     "end_time": "2024-10-17T18:16:15.819053Z",
     "start_time": "2024-10-17T18:16:15.813262Z"
    }
   },
   "cell_type": "code",
   "source": [
    "# Make predictions based on the probabilities\n",
    "glm_pred = ['Up' if p > 0.5 else 'Down' for p in probs]\n",
    "glm_pred[:6]"
   ],
   "id": "ad4e059d8a81e77b",
   "outputs": [
    {
     "data": {
      "text/plain": [
       "['Up', 'Down', 'Down', 'Up', 'Up', 'Up']"
      ]
     },
     "execution_count": 14,
     "metadata": {},
     "output_type": "execute_result"
    }
   ],
   "execution_count": 14
  },
  {
   "metadata": {
    "ExecuteTime": {
     "end_time": "2024-10-17T18:16:10.012868Z",
     "start_time": "2024-10-17T18:16:10.008054Z"
    }
   },
   "cell_type": "code",
   "source": [
    "# True value\n",
    "Smarket['Direction'][:6]"
   ],
   "id": "5d46bf211ca82daa",
   "outputs": [
    {
     "data": {
      "text/plain": [
       "0      Up\n",
       "1      Up\n",
       "2    Down\n",
       "3      Up\n",
       "4      Up\n",
       "5      Up\n",
       "Name: Direction, dtype: category\n",
       "Categories (2, object): ['Down', 'Up']"
      ]
     },
     "execution_count": 13,
     "metadata": {},
     "output_type": "execute_result"
    }
   ],
   "execution_count": 13
  },
  {
   "metadata": {
    "ExecuteTime": {
     "end_time": "2024-10-17T18:16:26.928197Z",
     "start_time": "2024-10-17T18:16:26.915842Z"
    }
   },
   "cell_type": "code",
   "source": [
    "labels = np.array(['Down']*1250)\n",
    "labels[probs>0.5] = \"Up\"\n",
    "confusion_table(labels, Smarket.Direction)"
   ],
   "id": "9435b19a44e13f42",
   "outputs": [
    {
     "data": {
      "text/plain": [
       "Truth      Down   Up\n",
       "Predicted           \n",
       "Down        145  141\n",
       "Up          457  507"
      ],
      "text/html": [
       "<div>\n",
       "<style scoped>\n",
       "    .dataframe tbody tr th:only-of-type {\n",
       "        vertical-align: middle;\n",
       "    }\n",
       "\n",
       "    .dataframe tbody tr th {\n",
       "        vertical-align: top;\n",
       "    }\n",
       "\n",
       "    .dataframe thead th {\n",
       "        text-align: right;\n",
       "    }\n",
       "</style>\n",
       "<table border=\"1\" class=\"dataframe\">\n",
       "  <thead>\n",
       "    <tr style=\"text-align: right;\">\n",
       "      <th>Truth</th>\n",
       "      <th>Down</th>\n",
       "      <th>Up</th>\n",
       "    </tr>\n",
       "    <tr>\n",
       "      <th>Predicted</th>\n",
       "      <th></th>\n",
       "      <th></th>\n",
       "    </tr>\n",
       "  </thead>\n",
       "  <tbody>\n",
       "    <tr>\n",
       "      <th>Down</th>\n",
       "      <td>145</td>\n",
       "      <td>141</td>\n",
       "    </tr>\n",
       "    <tr>\n",
       "      <th>Up</th>\n",
       "      <td>457</td>\n",
       "      <td>507</td>\n",
       "    </tr>\n",
       "  </tbody>\n",
       "</table>\n",
       "</div>"
      ]
     },
     "execution_count": 15,
     "metadata": {},
     "output_type": "execute_result"
    }
   ],
   "execution_count": 15
  },
  {
   "metadata": {
    "ExecuteTime": {
     "end_time": "2024-10-17T18:16:36.922986Z",
     "start_time": "2024-10-17T18:16:36.918265Z"
    }
   },
   "cell_type": "code",
   "source": "(507+145)/1250, np.mean(labels == Smarket.Direction)",
   "id": "33923b3eda770f08",
   "outputs": [
    {
     "data": {
      "text/plain": [
       "(0.5216, 0.5216)"
      ]
     },
     "execution_count": 16,
     "metadata": {},
     "output_type": "execute_result"
    }
   ],
   "execution_count": 16
  },
  {
   "metadata": {},
   "cell_type": "markdown",
   "source": "+ The accuracy only replects the performance under threshold 0.5. We can construct ROC curve to evaluate the general performance under various thresholding value.",
   "id": "f09765df6bb09629"
  },
  {
   "metadata": {
    "ExecuteTime": {
     "end_time": "2024-10-17T18:16:58.401145Z",
     "start_time": "2024-10-17T18:16:58.202852Z"
    }
   },
   "cell_type": "code",
   "source": [
    "# Compute the ROC curve and AUC score\n",
    "from sklearn.metrics import roc_curve, roc_auc_score\n",
    "import matplotlib.pyplot as plt\n",
    "fpr, tpr, thresholds = roc_curve(y, probs)\n",
    "auc = roc_auc_score(y, probs)\n",
    "plt.plot(fpr, tpr, label='Logistic Regression (AUC = %0.2f)' % auc)\n",
    "plt.plot([0, 1], [0, 1], linestyle='--', label='Random Guessing')\n",
    "plt.xlabel('False Positive Rate')\n",
    "plt.ylabel('True Positive Rate')\n",
    "plt.title('ROC Curve')\n",
    "plt.legend()\n",
    "plt.show()"
   ],
   "id": "a597b0eaecbfffe9",
   "outputs": [
    {
     "data": {
      "text/plain": [
       "<Figure size 640x480 with 1 Axes>"
      ],
      "image/png": "[encoded data removed]"
     },
     "metadata": {},
     "output_type": "display_data"
    }
   ],
   "execution_count": 17
  },
  {
   "metadata": {},
   "cell_type": "markdown",
   "source": [
    "+ At first glance, it looks a little bit better than random guess. But this result is evaluated on the training set.\n",
    "+ Intuitively, the test result will be worse due to the overfitting problem.\n",
    "+ Let's fit the model using two independent datasets: fit the model using observations from 2001-2004; test the results using a held-out data of obserations from 2005."
   ],
   "id": "d381edc57508e59e"
  },
  {
   "metadata": {
    "ExecuteTime": {
     "end_time": "2024-10-17T18:17:50.083222Z",
     "start_time": "2024-10-17T18:17:50.077895Z"
    }
   },
   "cell_type": "code",
   "source": [
    "# Split the data into training and test sets\n",
    "train = Smarket['Year'] < 2005\n",
    "test = Smarket['Year'] >= 2005\n",
    "\n",
    "Smarket['Direction_bin'] = Smarket['Direction'].map({'Up': 1, 'Down': 0})"
   ],
   "id": "4bc18a9d8244f331",
   "outputs": [],
   "execution_count": 18
  },
  {
   "metadata": {
    "ExecuteTime": {
     "end_time": "2024-10-17T18:17:54.774896Z",
     "start_time": "2024-10-17T18:17:54.771105Z"
    }
   },
   "cell_type": "code",
   "source": "Smarket.loc[test, ].shape[0]",
   "id": "5416076698cb4c79",
   "outputs": [
    {
     "data": {
      "text/plain": [
       "252"
      ]
     },
     "execution_count": 19,
     "metadata": {},
     "output_type": "execute_result"
    }
   ],
   "execution_count": 19
  },
  {
   "metadata": {
    "ExecuteTime": {
     "end_time": "2024-10-17T18:18:01.702640Z",
     "start_time": "2024-10-17T18:18:01.685868Z"
    }
   },
   "cell_type": "code",
   "source": [
    "# Fit the logistic regression model on the training set\n",
    "glm_fit = sm.Logit(Smarket.loc[train, 'Direction_bin'], sm.add_constant(Smarket.loc[train, ['Lag1', 'Lag2', 'Lag3', 'Lag4', 'Lag5', 'Volume']])).fit()\n",
    "\n",
    "# Predict the probabilities on the test set\n",
    "glm_probs = glm_fit.predict(sm.add_constant(Smarket.loc[test, ['Lag1', 'Lag2', 'Lag3', 'Lag4', 'Lag5', 'Volume']]), linear=False)\n",
    "\n",
    "# Make predictions based on the probabilities\n",
    "glm_pred = ['Up' if p > 0.5 else 'Down' for p in glm_probs]"
   ],
   "id": "f55355dacc83f0e9",
   "outputs": [
    {
     "name": "stdout",
     "output_type": "stream",
     "text": [
      "Optimization terminated successfully.\n",
      "         Current function value: 0.691936\n",
      "         Iterations 4\n"
     ]
    },
    {
     "name": "stderr",
     "output_type": "stream",
     "text": [
      "/Users/vvv/opt/anaconda3/envs/myenv/lib/python3.10/site-packages/statsmodels/discrete/discrete_model.py:530: FutureWarning: linear keyword is deprecated, use which=\"linear\"\n",
      "  warnings.warn(msg, FutureWarning)\n"
     ]
    }
   ],
   "execution_count": 20
  },
  {
   "metadata": {
    "ExecuteTime": {
     "end_time": "2024-10-17T18:18:08.548698Z",
     "start_time": "2024-10-17T18:18:08.541268Z"
    }
   },
   "cell_type": "code",
   "source": [
    "labels = np.array(['Down']*252)\n",
    "labels[glm_probs>0.5] = \"Up\"\n",
    "confusion_table(labels, Smarket.loc[test, 'Direction'])"
   ],
   "id": "18677e6de20adc17",
   "outputs": [
    {
     "data": {
      "text/plain": [
       "Truth      Down  Up\n",
       "Predicted          \n",
       "Down         77  97\n",
       "Up           34  44"
      ],
      "text/html": [
       "<div>\n",
       "<style scoped>\n",
       "    .dataframe tbody tr th:only-of-type {\n",
       "        vertical-align: middle;\n",
       "    }\n",
       "\n",
       "    .dataframe tbody tr th {\n",
       "        vertical-align: top;\n",
       "    }\n",
       "\n",
       "    .dataframe thead th {\n",
       "        text-align: right;\n",
       "    }\n",
       "</style>\n",
       "<table border=\"1\" class=\"dataframe\">\n",
       "  <thead>\n",
       "    <tr style=\"text-align: right;\">\n",
       "      <th>Truth</th>\n",
       "      <th>Down</th>\n",
       "      <th>Up</th>\n",
       "    </tr>\n",
       "    <tr>\n",
       "      <th>Predicted</th>\n",
       "      <th></th>\n",
       "      <th></th>\n",
       "    </tr>\n",
       "  </thead>\n",
       "  <tbody>\n",
       "    <tr>\n",
       "      <th>Down</th>\n",
       "      <td>77</td>\n",
       "      <td>97</td>\n",
       "    </tr>\n",
       "    <tr>\n",
       "      <th>Up</th>\n",
       "      <td>34</td>\n",
       "      <td>44</td>\n",
       "    </tr>\n",
       "  </tbody>\n",
       "</table>\n",
       "</div>"
      ]
     },
     "execution_count": 21,
     "metadata": {},
     "output_type": "execute_result"
    }
   ],
   "execution_count": 21
  },
  {
   "metadata": {
    "ExecuteTime": {
     "end_time": "2024-10-17T18:18:15.029626Z",
     "start_time": "2024-10-17T18:18:15.025419Z"
    }
   },
   "cell_type": "code",
   "source": "print(\"The accuracy is now\", np.mean(labels == Smarket.loc[test, 'Direction']), \".\\n\")",
   "id": "5a193c2aaa21008e",
   "outputs": [
    {
     "name": "stdout",
     "output_type": "stream",
     "text": [
      "The accuracy is now 0.4801587301587302 .\n",
      "\n"
     ]
    }
   ],
   "execution_count": 22
  },
  {
   "metadata": {
    "ExecuteTime": {
     "end_time": "2024-10-17T18:18:21.720627Z",
     "start_time": "2024-10-17T18:18:21.599270Z"
    }
   },
   "cell_type": "code",
   "source": [
    "# Compute the ROC curve and AUC score\n",
    "fpr, tpr, thresholds = roc_curve(Smarket.loc[test, 'Direction_bin'], glm_probs)\n",
    "auc = roc_auc_score(Smarket.loc[test, 'Direction_bin'], glm_probs)\n",
    "plt.plot(fpr, tpr, label='Logistic Regression (AUC = %0.2f)' % auc)\n",
    "plt.plot([0, 1], [0, 1], linestyle='--', label='Random Guessing')\n",
    "plt.xlabel('False Positive Rate')\n",
    "plt.ylabel('True Positive Rate')\n",
    "plt.title('ROC Curve')\n",
    "plt.legend()\n",
    "plt.show()"
   ],
   "id": "3561496ea163aba1",
   "outputs": [
    {
     "data": {
      "text/plain": [
       "<Figure size 640x480 with 1 Axes>"
      ],
      "image/png": "[encoded data removed]"
     },
     "metadata": {},
     "output_type": "display_data"
    }
   ],
   "execution_count": 23
  },
  {
   "metadata": {},
   "cell_type": "markdown",
   "source": [
    "- Now, the test error rate is $52\\%$, which is worse than random guessing!\n",
    "- Prediction AUC is $0.52$, slightly better than random guess but worse than training AUC (as expected).\n",
    "- We find descrepency between AUC and prediction accuracy, because the former accounts for the entire cutoff range."
   ],
   "id": "9f94543532bee978"
  },
  {
   "metadata": {},
   "cell_type": "markdown",
   "source": [
    "- Of course this result is not all that surprising, given that one would not generally expect to be able to use previous days’ returns to predict future market performance.\n",
    "- We recall that the logistic regression model had very underwhelming pvalues associated with all of the predictors, and that the smallest p-value, though not very small, corresponded to `Lag1`.\n",
    "- Perhaps by removing the variables that appear not to be helpful in predicting `Direction`, we can obtain a more effective model.\n",
    "- Below we have refit the logistic regression using just `Lag1` and `Lag2`, which seemed to have the highest predictive power in the original logistic regression model."
   ],
   "id": "cbec7e78914ece50"
  },
  {
   "metadata": {
    "ExecuteTime": {
     "end_time": "2024-10-17T18:20:13.596916Z",
     "start_time": "2024-10-17T18:20:13.587283Z"
    }
   },
   "cell_type": "code",
   "source": [
    "# Fit the logistic regression model on the training set\n",
    "glm_fit = sm.Logit(Smarket.loc[train, 'Direction_bin'], sm.add_constant(Smarket.loc[train, ['Lag1', 'Lag2']])).fit()\n",
    "\n",
    "# Predict the probabilities on the test set\n",
    "glm_probs = glm_fit.predict(sm.add_constant(Smarket.loc[test, ['Lag1', 'Lag2']]), linear=False)\n",
    "\n",
    "# Make predictions based on the probabilities\n",
    "glm_pred = ['Up' if p > 0.5 else 'Down' for p in glm_probs]"
   ],
   "id": "d7ac2aac1f7168e4",
   "outputs": [
    {
     "name": "stdout",
     "output_type": "stream",
     "text": [
      "Optimization terminated successfully.\n",
      "         Current function value: 0.692085\n",
      "         Iterations 3\n"
     ]
    },
    {
     "name": "stderr",
     "output_type": "stream",
     "text": [
      "/Users/vvv/opt/anaconda3/envs/myenv/lib/python3.10/site-packages/statsmodels/discrete/discrete_model.py:530: FutureWarning: linear keyword is deprecated, use which=\"linear\"\n",
      "  warnings.warn(msg, FutureWarning)\n"
     ]
    }
   ],
   "execution_count": 24
  },
  {
   "metadata": {},
   "cell_type": "code",
   "outputs": [
    {
     "data": {
      "text/html": [
       "<div>\n",
       "<style scoped>\n",
       "    .dataframe tbody tr th:only-of-type {\n",
       "        vertical-align: middle;\n",
       "    }\n",
       "\n",
       "    .dataframe tbody tr th {\n",
       "        vertical-align: top;\n",
       "    }\n",
       "\n",
       "    .dataframe thead th {\n",
       "        text-align: right;\n",
       "    }\n",
       "</style>\n",
       "<table border=\"1\" class=\"dataframe\">\n",
       "  <thead>\n",
       "    <tr style=\"text-align: right;\">\n",
       "      <th>Truth</th>\n",
       "      <th>Down</th>\n",
       "      <th>Up</th>\n",
       "    </tr>\n",
       "    <tr>\n",
       "      <th>Predicted</th>\n",
       "      <th></th>\n",
       "      <th></th>\n",
       "    </tr>\n",
       "  </thead>\n",
       "  <tbody>\n",
       "    <tr>\n",
       "      <th>Down</th>\n",
       "      <td>35</td>\n",
       "      <td>35</td>\n",
       "    </tr>\n",
       "    <tr>\n",
       "      <th>Up</th>\n",
       "      <td>76</td>\n",
       "      <td>106</td>\n",
       "    </tr>\n",
       "  </tbody>\n",
       "</table>\n",
       "</div>"
      ],
      "text/plain": [
       "Truth      Down   Up\n",
       "Predicted           \n",
       "Down         35   35\n",
       "Up           76  106"
      ]
     },
     "execution_count": 21,
     "metadata": {},
     "output_type": "execute_result"
    }
   ],
   "execution_count": 21,
   "source": [
    "labels = np.array(['Down']*252)\n",
    "labels[glm_probs>0.5] = \"Up\"\n",
    "confusion_table(labels, Smarket.loc[test, 'Direction'])"
   ],
   "id": "23dd31c2983a7bf8"
  },
  {
   "metadata": {
    "ExecuteTime": {
     "end_time": "2024-10-17T18:20:29.324698Z",
     "start_time": "2024-10-17T18:20:29.321079Z"
    }
   },
   "cell_type": "code",
   "source": "print(\"The accuracy is now\", np.mean(labels == Smarket.loc[test, 'Direction']), \".\\n\")",
   "id": "69f1230c9ed25ed0",
   "outputs": [
    {
     "name": "stdout",
     "output_type": "stream",
     "text": [
      "The accuracy is now 0.4801587301587302 .\n",
      "\n"
     ]
    }
   ],
   "execution_count": 25
  },
  {
   "metadata": {
    "ExecuteTime": {
     "end_time": "2024-10-17T18:20:33.676160Z",
     "start_time": "2024-10-17T18:20:33.550932Z"
    }
   },
   "cell_type": "code",
   "source": [
    "# Compute the ROC curve and AUC score\n",
    "fpr, tpr, thresholds = roc_curve(Smarket.loc[test, 'Direction_bin'], glm_probs)\n",
    "auc = roc_auc_score(Smarket.loc[test, 'Direction_bin'], glm_probs)\n",
    "plt.plot(fpr, tpr, label='Logistic Regression (AUC = %0.2f)' % auc)\n",
    "plt.plot([0, 1], [0, 1], linestyle='--', label='Random Guessing')\n",
    "plt.xlabel('False Positive Rate')\n",
    "plt.ylabel('True Positive Rate')\n",
    "plt.title('ROC Curve')\n",
    "plt.legend()\n",
    "plt.show()"
   ],
   "id": "62dd2b74db49e7fc",
   "outputs": [
    {
     "data": {
      "text/plain": [
       "<Figure size 640x480 with 1 Axes>"
      ],
      "image/png": "[encoded data removed]"
     },
     "metadata": {},
     "output_type": "display_data"
    }
   ],
   "execution_count": 26
  },
  {
   "metadata": {},
   "cell_type": "markdown",
   "source": [
    "## LDA\n",
    "We begin by performing LDA on the `Smarket` data, using the function `LinearDiscriminantAnalysis()`. We fit the model using only the observations before 2005."
   ],
   "id": "29321069975727b6"
  },
  {
   "metadata": {
    "ExecuteTime": {
     "end_time": "2024-10-17T18:20:52.239323Z",
     "start_time": "2024-10-17T18:20:52.228199Z"
    }
   },
   "cell_type": "code",
   "source": [
    "from sklearn.discriminant_analysis import LinearDiscriminantAnalysis\n",
    "\n",
    "# Linear Discriminant Analysis\n",
    "lda_fit = LinearDiscriminantAnalysis().fit(Smarket.loc[train, ['Lag1', 'Lag2']], Smarket.loc[train, 'Direction'])\n",
    "print(lda_fit)"
   ],
   "id": "aa35f839315cd9e5",
   "outputs": [
    {
     "name": "stdout",
     "output_type": "stream",
     "text": [
      "LinearDiscriminantAnalysis()\n"
     ]
    }
   ],
   "execution_count": 27
  },
  {
   "metadata": {
    "ExecuteTime": {
     "end_time": "2024-10-17T18:20:56.528367Z",
     "start_time": "2024-10-17T18:20:56.524921Z"
    }
   },
   "cell_type": "code",
   "source": "lda_fit.means_",
   "id": "a65bd72c5c616978",
   "outputs": [
    {
     "data": {
      "text/plain": [
       "array([[ 0.04279022,  0.03389409],\n",
       "       [-0.03954635, -0.03132544]])"
      ]
     },
     "execution_count": 28,
     "metadata": {},
     "output_type": "execute_result"
    }
   ],
   "execution_count": 28
  },
  {
   "metadata": {
    "ExecuteTime": {
     "end_time": "2024-10-17T18:21:01.284824Z",
     "start_time": "2024-10-17T18:21:01.281453Z"
    }
   },
   "cell_type": "code",
   "source": "lda_fit.priors_",
   "id": "48f8dd3d2f04121d",
   "outputs": [
    {
     "data": {
      "text/plain": [
       "array([0.49198397, 0.50801603])"
      ]
     },
     "execution_count": 29,
     "metadata": {},
     "output_type": "execute_result"
    }
   ],
   "execution_count": 29
  },
  {
   "metadata": {
    "ExecuteTime": {
     "end_time": "2024-10-17T18:21:05.761653Z",
     "start_time": "2024-10-17T18:21:05.758542Z"
    }
   },
   "cell_type": "code",
   "source": "lda_fit.scalings_",
   "id": "bbb1c878cc8c27b1",
   "outputs": [
    {
     "data": {
      "text/plain": [
       "array([[-0.64201904],\n",
       "       [-0.51352928]])"
      ]
     },
     "execution_count": 30,
     "metadata": {},
     "output_type": "execute_result"
    }
   ],
   "execution_count": 30
  },
  {
   "metadata": {},
   "cell_type": "markdown",
   "source": [
    "- Prior probabilities: $\\pi_k$.\n",
    "- Group means: $\\mu_k$.\n",
    "- Coefficients: discrimination function $\\mu^T \\Sigma^{-1} x$ is linear on $x$."
   ],
   "id": "d5aa99481fe5f876"
  },
  {
   "metadata": {
    "ExecuteTime": {
     "end_time": "2024-10-17T18:21:20.870298Z",
     "start_time": "2024-10-17T18:21:20.865614Z"
    }
   },
   "cell_type": "code",
   "source": "sum(Smarket.loc[train, \"Direction\"] == \"Up\") / sum(train), sum(Smarket.loc[train, \"Direction\"] == \"Down\") / sum(train)",
   "id": "c43e503262adae7c",
   "outputs": [
    {
     "data": {
      "text/plain": [
       "(0.5080160320641283, 0.49198396793587174)"
      ]
     },
     "execution_count": 31,
     "metadata": {},
     "output_type": "execute_result"
    }
   ],
   "execution_count": 31
  },
  {
   "metadata": {},
   "cell_type": "markdown",
   "source": [
    "- The LDA output indicates that $\\pi_1 = 0.492$ and $\\pi_2 = 0.508$; in other words, 49.2% of the training observations correspond to days during which the market went down. \n",
    "- It also provides the group means; these are the average of each predictor within each class, and are used by LDA as estimate of $\\mu_k$. \n",
    "- These suggest that there is a tendency for the previous 2 days returns to be negative on days when the market increases, and a tendency for the previous days’ returns to be positive on days when the market declines."
   ],
   "id": "b2578f0c5027f93f"
  },
  {
   "metadata": {
    "ExecuteTime": {
     "end_time": "2024-10-17T18:21:48.193798Z",
     "start_time": "2024-10-17T18:21:48.186382Z"
    }
   },
   "cell_type": "code",
   "source": [
    "# Make predictions on the test set\n",
    "lda_pred = lda_fit.predict(Smarket.loc[test, ['Lag1', 'Lag2']])\n",
    "lda_prob = lda_fit.predict_proba(Smarket.loc[test, ['Lag1', 'Lag2']])"
   ],
   "id": "6b0438c6cca423f6",
   "outputs": [],
   "execution_count": 32
  },
  {
   "metadata": {
    "ExecuteTime": {
     "end_time": "2024-10-17T18:21:48.838178Z",
     "start_time": "2024-10-17T18:21:48.829798Z"
    }
   },
   "cell_type": "code",
   "source": "confusion_table(lda_pred, Smarket.loc[test, 'Direction'])",
   "id": "1f7ea94879b8970a",
   "outputs": [
    {
     "data": {
      "text/plain": [
       "Truth      Down   Up\n",
       "Predicted           \n",
       "Down         35   35\n",
       "Up           76  106"
      ],
      "text/html": [
       "<div>\n",
       "<style scoped>\n",
       "    .dataframe tbody tr th:only-of-type {\n",
       "        vertical-align: middle;\n",
       "    }\n",
       "\n",
       "    .dataframe tbody tr th {\n",
       "        vertical-align: top;\n",
       "    }\n",
       "\n",
       "    .dataframe thead th {\n",
       "        text-align: right;\n",
       "    }\n",
       "</style>\n",
       "<table border=\"1\" class=\"dataframe\">\n",
       "  <thead>\n",
       "    <tr style=\"text-align: right;\">\n",
       "      <th>Truth</th>\n",
       "      <th>Down</th>\n",
       "      <th>Up</th>\n",
       "    </tr>\n",
       "    <tr>\n",
       "      <th>Predicted</th>\n",
       "      <th></th>\n",
       "      <th></th>\n",
       "    </tr>\n",
       "  </thead>\n",
       "  <tbody>\n",
       "    <tr>\n",
       "      <th>Down</th>\n",
       "      <td>35</td>\n",
       "      <td>35</td>\n",
       "    </tr>\n",
       "    <tr>\n",
       "      <th>Up</th>\n",
       "      <td>76</td>\n",
       "      <td>106</td>\n",
       "    </tr>\n",
       "  </tbody>\n",
       "</table>\n",
       "</div>"
      ]
     },
     "execution_count": 33,
     "metadata": {},
     "output_type": "execute_result"
    }
   ],
   "execution_count": 33
  },
  {
   "metadata": {
    "ExecuteTime": {
     "end_time": "2024-10-17T18:21:58.701303Z",
     "start_time": "2024-10-17T18:21:58.696698Z"
    }
   },
   "cell_type": "code",
   "source": "print(\"The accuracy is now\", np.mean(lda_pred == Smarket.loc[test, 'Direction']), \".\\n\")",
   "id": "c7c1c665160811f1",
   "outputs": [
    {
     "name": "stdout",
     "output_type": "stream",
     "text": [
      "The accuracy is now 0.5595238095238095 .\n",
      "\n"
     ]
    }
   ],
   "execution_count": 34
  },
  {
   "metadata": {},
   "cell_type": "markdown",
   "source": "- The prediction performance is the same as logistic regression.",
   "id": "3a8de01394248384"
  },
  {
   "metadata": {
    "ExecuteTime": {
     "end_time": "2024-10-17T18:22:07.426153Z",
     "start_time": "2024-10-17T18:22:07.302114Z"
    }
   },
   "cell_type": "code",
   "source": [
    "# Compute the ROC curve and AUC score\n",
    "fpr, tpr, thresholds = roc_curve(Smarket.loc[test, 'Direction_bin'], lda_prob[:,1])\n",
    "auc = roc_auc_score(Smarket.loc[test, 'Direction_bin'], lda_prob[:,1])\n",
    "plt.plot(fpr, tpr, label='Logistic Regression (AUC = %0.2f)' % auc)\n",
    "plt.plot([0, 1], [0, 1], linestyle='--', label='Random Guessing')\n",
    "plt.xlabel('False Positive Rate')\n",
    "plt.ylabel('True Positive Rate')\n",
    "plt.title('ROC Curve')\n",
    "plt.legend()\n",
    "plt.show()"
   ],
   "id": "985a959a53713c18",
   "outputs": [
    {
     "data": {
      "text/plain": [
       "<Figure size 640x480 with 1 Axes>"
      ],
      "image/png": "[encoded data removed]"
     },
     "metadata": {},
     "output_type": "display_data"
    }
   ],
   "execution_count": 35
  },
  {
   "metadata": {},
   "cell_type": "markdown",
   "source": [
    "## QDA\n",
    "We will now fit a QDA model to the `Smarket` data. QDA is implemented via `QuadraticDiscriminantAnalysis()` in the `sklearn` package, which we abbreviate to `QDA()`. The syntax is very similar to `LDA()`."
   ],
   "id": "ba029fe45d8f84d7"
  },
  {
   "metadata": {
    "ExecuteTime": {
     "end_time": "2024-10-17T18:22:28.138101Z",
     "start_time": "2024-10-17T18:22:28.131421Z"
    }
   },
   "cell_type": "code",
   "source": [
    "from sklearn.discriminant_analysis import QuadraticDiscriminantAnalysis\n",
    "\n",
    "# Quadratic Discriminant Analysis\n",
    "qda_fit = QuadraticDiscriminantAnalysis().fit(Smarket.loc[train, ['Lag1', 'Lag2']], Smarket.loc[train, 'Direction'])\n",
    "\n",
    "# Print the fitted model\n",
    "print(qda_fit)"
   ],
   "id": "3dbd972ee60b0b4f",
   "outputs": [
    {
     "name": "stdout",
     "output_type": "stream",
     "text": [
      "QuadraticDiscriminantAnalysis()\n"
     ]
    }
   ],
   "execution_count": 36
  },
  {
   "metadata": {
    "ExecuteTime": {
     "end_time": "2024-10-17T18:22:28.351287Z",
     "start_time": "2024-10-17T18:22:28.347808Z"
    }
   },
   "cell_type": "code",
   "source": "qda_fit.means_, qda_fit.priors_",
   "id": "89a12c63ef8352d0",
   "outputs": [
    {
     "data": {
      "text/plain": [
       "(array([[ 0.04279022,  0.03389409],\n",
       "        [-0.03954635, -0.03132544]]),\n",
       " array([0.49198397, 0.50801603]))"
      ]
     },
     "execution_count": 37,
     "metadata": {},
     "output_type": "execute_result"
    }
   ],
   "execution_count": 37
  },
  {
   "metadata": {
    "ExecuteTime": {
     "end_time": "2024-10-17T18:22:28.646605Z",
     "start_time": "2024-10-17T18:22:28.638180Z"
    }
   },
   "cell_type": "code",
   "source": [
    "# Make predictions on the test set\n",
    "qda_pred = qda_fit.predict(Smarket.loc[test, ['Lag1', 'Lag2']])\n",
    "qda_prob = qda_fit.predict_proba(Smarket.loc[test, ['Lag1', 'Lag2']])"
   ],
   "id": "850333e7b4ab466f",
   "outputs": [],
   "execution_count": 38
  },
  {
   "metadata": {
    "ExecuteTime": {
     "end_time": "2024-10-17T18:22:29.056285Z",
     "start_time": "2024-10-17T18:22:29.048640Z"
    }
   },
   "cell_type": "code",
   "source": "confusion_table(qda_pred, Smarket.loc[test, 'Direction'])",
   "id": "39c9f60e599572c5",
   "outputs": [
    {
     "data": {
      "text/plain": [
       "Truth      Down   Up\n",
       "Predicted           \n",
       "Down         30   20\n",
       "Up           81  121"
      ],
      "text/html": [
       "<div>\n",
       "<style scoped>\n",
       "    .dataframe tbody tr th:only-of-type {\n",
       "        vertical-align: middle;\n",
       "    }\n",
       "\n",
       "    .dataframe tbody tr th {\n",
       "        vertical-align: top;\n",
       "    }\n",
       "\n",
       "    .dataframe thead th {\n",
       "        text-align: right;\n",
       "    }\n",
       "</style>\n",
       "<table border=\"1\" class=\"dataframe\">\n",
       "  <thead>\n",
       "    <tr style=\"text-align: right;\">\n",
       "      <th>Truth</th>\n",
       "      <th>Down</th>\n",
       "      <th>Up</th>\n",
       "    </tr>\n",
       "    <tr>\n",
       "      <th>Predicted</th>\n",
       "      <th></th>\n",
       "      <th></th>\n",
       "    </tr>\n",
       "  </thead>\n",
       "  <tbody>\n",
       "    <tr>\n",
       "      <th>Down</th>\n",
       "      <td>30</td>\n",
       "      <td>20</td>\n",
       "    </tr>\n",
       "    <tr>\n",
       "      <th>Up</th>\n",
       "      <td>81</td>\n",
       "      <td>121</td>\n",
       "    </tr>\n",
       "  </tbody>\n",
       "</table>\n",
       "</div>"
      ]
     },
     "execution_count": 39,
     "metadata": {},
     "output_type": "execute_result"
    }
   ],
   "execution_count": 39
  },
  {
   "metadata": {
    "ExecuteTime": {
     "end_time": "2024-10-17T18:22:29.853407Z",
     "start_time": "2024-10-17T18:22:29.849503Z"
    }
   },
   "cell_type": "code",
   "source": "print(\"The accuracy is now\", np.mean(qda_pred == Smarket.loc[test, 'Direction']), \"!\\n\")",
   "id": "6d5a2dabc639f911",
   "outputs": [
    {
     "name": "stdout",
     "output_type": "stream",
     "text": [
      "The accuracy is now 0.5992063492063492 !\n",
      "\n"
     ]
    }
   ],
   "execution_count": 40
  },
  {
   "metadata": {
    "ExecuteTime": {
     "end_time": "2024-10-17T18:22:30.225727Z",
     "start_time": "2024-10-17T18:22:30.099832Z"
    }
   },
   "cell_type": "code",
   "source": [
    "# Compute the ROC curve and AUC score\n",
    "fpr, tpr, thresholds = roc_curve(Smarket.loc[test, 'Direction_bin'], qda_prob[:,1])\n",
    "auc = roc_auc_score(Smarket.loc[test, 'Direction_bin'], qda_prob[:,1])\n",
    "plt.plot(fpr, tpr, label='Logistic Regression (AUC = %0.2f)' % auc)\n",
    "plt.plot([0, 1], [0, 1], linestyle='--', label='Random Guessing')\n",
    "plt.xlabel('False Positive Rate')\n",
    "plt.ylabel('True Positive Rate')\n",
    "plt.title('ROC Curve')\n",
    "plt.legend()\n",
    "plt.show()"
   ],
   "id": "2739affdbbcac415",
   "outputs": [
    {
     "data": {
      "text/plain": [
       "<Figure size 640x480 with 1 Axes>"
      ],
      "image/png": "[encoded data removed]"
     },
     "metadata": {},
     "output_type": "display_data"
    }
   ],
   "execution_count": 41
  },
  {
   "metadata": {},
   "cell_type": "markdown",
   "source": [
    "Interestingly, the QDA predictions are accurate almost 60% of the time, even though the 2005 data was not used to fit the model. This level of accuracy is quite impressive for stock market data, which is known to be quite\n",
    "hard to model accurately.\n",
    "- This suggests that the quadratic form assumed by QDA may capture the true relationship more accurately than the linear forms assumed by LDA and logistic regression. \n",
    "- However, it would be better to evaluate this method’s performance on a larger test set before betting that this approach will consistently beat the market!"
   ],
   "id": "716c1134eb212464"
  },
  {
   "metadata": {},
   "cell_type": "markdown",
   "source": "## K-Nearest Neighbors",
   "id": "3f5f5d8eb1e2b514"
  },
  {
   "metadata": {
    "ExecuteTime": {
     "end_time": "2024-10-17T18:23:04.143858Z",
     "start_time": "2024-10-17T18:23:04.106835Z"
    }
   },
   "cell_type": "code",
   "source": [
    "from sklearn.neighbors import KNeighborsClassifier\n",
    "from sklearn.metrics import confusion_matrix\n",
    "\n",
    "# K-Nearest Neighbors\n",
    "knn_fit = KNeighborsClassifier(n_neighbors=1).fit(Smarket.loc[train, ['Lag1', 'Lag2']], Smarket.loc[train, 'Direction'])\n",
    "\n",
    "# Make predictions on the test set\n",
    "knn_pred = knn_fit.predict(Smarket.loc[test, ['Lag1', 'Lag2']])\n",
    "\n",
    "# Compute the confusion matrix\n",
    "conf_mat = confusion_matrix(Smarket.loc[test, 'Direction'], knn_pred)\n",
    "\n",
    "# Print the confusion matrix and prediction accuracy\n",
    "print('Confusion Matrix:')\n",
    "print(conf_mat)\n",
    "print('The prediction accuracy is', knn_fit.score(Smarket.loc[test, ['Lag1', 'Lag2']], Smarket.loc[test, 'Direction']))"
   ],
   "id": "ef7af6ae9ea4b7d",
   "outputs": [
    {
     "name": "stdout",
     "output_type": "stream",
     "text": [
      "Confusion Matrix:\n",
      "[[43 68]\n",
      " [58 83]]\n",
      "The prediction accuracy is 0.5\n"
     ]
    }
   ],
   "execution_count": 42
  },
  {
   "metadata": {},
   "cell_type": "markdown",
   "source": [
    "# Exercise\n",
    "\n",
    "- Try to apply the KNN approach to the `Caravan` data set, which is part of the `ISLP` library. This data set includes 85 predictors that measure demographic characteristics for 5,822 individuals.\n",
    "\n",
    "- Use `Purchase` as response."
   ],
   "id": "454f84fe4a4d9933"
  },
  {
   "metadata": {
    "ExecuteTime": {
     "end_time": "2024-10-17T18:23:23.727132Z",
     "start_time": "2024-10-17T18:23:23.691035Z"
    }
   },
   "cell_type": "code",
   "source": [
    "Caravan = load_data('Caravan')\n",
    "# Get the dimensions of the DataFrame\n",
    "print(Caravan.shape)\n",
    "\n",
    "# Print the first few rows of the DataFrame\n",
    "print(Caravan.head())"
   ],
   "id": "f669289034dc24b",
   "outputs": [
    {
     "name": "stdout",
     "output_type": "stream",
     "text": [
      "(5822, 86)\n",
      "   MOSTYPE  MAANTHUI  MGEMOMV  MGEMLEEF  MOSHOOFD  MGODRK  MGODPR  MGODOV  \\\n",
      "0       33         1        3         2         8       0       5       1   \n",
      "1       37         1        2         2         8       1       4       1   \n",
      "2       37         1        2         2         8       0       4       2   \n",
      "3        9         1        3         3         3       2       3       2   \n",
      "4       40         1        4         2        10       1       4       1   \n",
      "\n",
      "   MGODGE  MRELGE  ...  APERSONG  AGEZONG  AWAOREG  ABRAND  AZEILPL  APLEZIER  \\\n",
      "0       3       7  ...         0        0        0       1        0         0   \n",
      "1       4       6  ...         0        0        0       1        0         0   \n",
      "2       4       3  ...         0        0        0       1        0         0   \n",
      "3       4       5  ...         0        0        0       1        0         0   \n",
      "4       4       7  ...         0        0        0       1        0         0   \n",
      "\n",
      "   AFIETS  AINBOED  ABYSTAND  Purchase  \n",
      "0       0        0         0        No  \n",
      "1       0        0         0        No  \n",
      "2       0        0         0        No  \n",
      "3       0        0         0        No  \n",
      "4       0        0         0        No  \n",
      "\n",
      "[5 rows x 86 columns]\n"
     ]
    }
   ],
   "execution_count": 43
  },
  {
   "metadata": {
    "ExecuteTime": {
     "end_time": "2024-10-17T18:23:24.704561Z",
     "start_time": "2024-10-17T18:23:24.469198Z"
    }
   },
   "cell_type": "code",
   "source": [
    "# Standardize the predictors\n",
    "standardized_X = (Caravan.iloc[:, :-1] - Caravan.iloc[:, :-1].mean()) / Caravan.iloc[:, :-1].std()\n",
    "\n",
    "# Compute the variances of the first two predictors\n",
    "print('Variance of predictor 1:', np.var(Caravan.iloc[:, 0]))\n",
    "print('Variance of predictor 2:', np.var(Caravan.iloc[:, 1]))\n",
    "print('Variance of standardized predictor 1:', np.var(standardized_X.iloc[:, 0]))\n",
    "print('Variance of standardized predictor 2:', np.var(standardized_X.iloc[:, 1]))\n",
    "\n",
    "# Split the data into training and test sets\n",
    "test = np.arange(1000)\n",
    "train_X = standardized_X.iloc[~test, :]\n",
    "test_X = standardized_X.iloc[test, :]\n",
    "train_Y = Caravan.iloc[~test, -1]\n",
    "test_Y = Caravan.iloc[test, -1]\n",
    "\n",
    "# K-Nearest Neighbors\n",
    "knn_fit = KNeighborsClassifier(n_neighbors=1).fit(train_X, train_Y)\n",
    "\n",
    "# Compute the misclassification rate\n",
    "knn_pred = knn_fit.predict(test_X)\n",
    "print('Misclassification rate:', np.mean(test_Y != knn_pred))\n",
    "\n",
    "# Compute the error rate using the \"No\" class as the baseline\n",
    "print('Error rate:', np.mean(test_Y != 'No'))\n",
    "\n",
    "# Compute the confusion matrix and hit rate for k = 1\n",
    "conf_mat = pd.crosstab(knn_pred, test_Y)\n",
    "hit_rate = conf_mat.loc['Yes', 'Yes'] / (conf_mat.loc['Yes', 'Yes'] + conf_mat.loc['No', 'Yes'])\n",
    "print('Confusion matrix (k = 1):')\n",
    "print(conf_mat)\n",
    "print('Hit rate (k = 1):', hit_rate)\n",
    "\n",
    "# Repeat for k = 3\n",
    "knn_fit = KNeighborsClassifier(n_neighbors=3).fit(train_X, train_Y)\n",
    "knn_pred = knn_fit.predict(test_X)\n",
    "conf_mat = pd.crosstab(knn_pred, test_Y)\n",
    "hit_rate = conf_mat.loc['Yes', 'Yes'] / (conf_mat.loc['Yes', 'Yes'] + conf_mat.loc['No', 'Yes'])\n",
    "print('Confusion matrix (k = 3):')\n",
    "print(conf_mat)\n",
    "print('Hit rate (k = 3):', hit_rate)\n",
    "\n",
    "# Repeat for k = 5\n",
    "knn_fit = KNeighborsClassifier(n_neighbors=5).fit(train_X, train_Y)\n",
    "knn_pred = knn_fit.predict(test_X)\n",
    "conf_mat = pd.crosstab(knn_pred, test_Y)\n",
    "hit_rate = conf_mat.loc['Yes', 'Yes'] / (conf_mat.loc['Yes', 'Yes'] + conf_mat.loc['No', 'Yes'])\n",
    "print('Confusion matrix (k = 5):')\n",
    "print(conf_mat)\n",
    "print('Hit rate (k = 5):', hit_rate)\n"
   ],
   "id": "dc37150c8822bafd",
   "outputs": [
    {
     "name": "stdout",
     "output_type": "stream",
     "text": [
      "Variance of predictor 1: 165.0095001180681\n",
      "Variance of predictor 2: 0.16467949134763\n",
      "Variance of standardized predictor 1: 0.9998282377189971\n",
      "Variance of standardized predictor 2: 0.9998282377189966\n",
      "Misclassification rate: 0.117\n",
      "Error rate: 0.059\n",
      "Confusion matrix (k = 1):\n",
      "Purchase   No  Yes\n",
      "row_0             \n",
      "No        874   50\n",
      "Yes        67    9\n",
      "Hit rate (k = 1): 0.15254237288135594\n",
      "Confusion matrix (k = 3):\n",
      "Purchase   No  Yes\n",
      "row_0             \n",
      "No        920   56\n",
      "Yes        21    3\n",
      "Hit rate (k = 3): 0.05084745762711865\n",
      "Confusion matrix (k = 5):\n",
      "Purchase   No  Yes\n",
      "row_0             \n",
      "No        938   59\n",
      "Yes         3    0\n",
      "Hit rate (k = 5): 0.0\n"
     ]
    }
   ],
   "execution_count": 44
  },
  {
   "metadata": {},
   "cell_type": "code",
   "outputs": [],
   "execution_count": null,
   "source": "",
   "id": "7e5d8b68683e1827"
  }
 ],
 "metadata": {
  "kernelspec": {
   "display_name": "Python 3",
   "language": "python",
   "name": "python3"
  },
  "language_info": {
   "codemirror_mode": {
    "name": "ipython",
    "version": 2
   },
   "file_extension": ".py",
   "mimetype": "text/x-python",
   "name": "python",
   "nbconvert_exporter": "python",
   "pygments_lexer": "ipython2",
   "version": "2.7.6"
  }
 },
 "nbformat": 4,
 "nbformat_minor": 5
}
