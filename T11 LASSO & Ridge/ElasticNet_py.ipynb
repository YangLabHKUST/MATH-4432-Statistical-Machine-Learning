{
 "cells": [
  {
   "cell_type": "markdown",
   "id": "c7780627-4b7d-46e2-976a-b33feb0e7e07",
   "metadata": {},
   "source": [
    "## Ridge Regression and the Lasso\n",
    "\n",
    "- TA: HUANG Xinrui\n",
    "- Date: November 7, 2022"
   ]
  },
  {
   "cell_type": "code",
   "execution_count": 1,
   "id": "ce70af8a-be18-4e6f-a08f-2e9f4a371c34",
   "metadata": {},
   "outputs": [],
   "source": [
    "import numpy as np\n",
    "import pandas as pd\n",
    "from matplotlib.pyplot import subplots\n",
    "from statsmodels.api import OLS\n",
    "import sklearn.model_selection as skm\n",
    "import sklearn.linear_model as skl\n",
    "from sklearn.preprocessing import StandardScaler\n",
    "from ISLP import load_data\n",
    "from ISLP.models import ModelSpec as MS\n",
    "from functools import partial\n",
    "import warnings\n",
    "\n",
    "warnings.filterwarnings('ignore')"
   ]
  },
  {
   "cell_type": "markdown",
   "id": "a97c97cd-6b1c-4a26-8d7a-cede8f09bcf9",
   "metadata": {
    "tags": []
   },
   "source": [
    "- We will use the `sklearn.linear_model` package (for which\n",
    "we use `skl` as shorthand below) to fit ridge and  lasso regularized linear models on the `Hitters` data.\n",
    "\n",
    "- We will use the function `skl.ElasticNet()` to fit both  ridge and the lasso, as well as a hybrid mixture;  ridge regression corresponds to `l1_ratio=0`."
   ]
  },
  {
   "cell_type": "markdown",
   "id": "fe30f69a-73a5-4ef2-8e9a-f025b6ddd8d6",
   "metadata": {},
   "source": [
    "## `Hitters` dataset"
   ]
  },
  {
   "cell_type": "code",
   "execution_count": 2,
   "id": "539a3807-60b4-4b9d-8878-6a8e1be401ea",
   "metadata": {},
   "outputs": [
    {
     "data": {
      "text/plain": [
       "((263, 20), 0)"
      ]
     },
     "execution_count": 2,
     "metadata": {},
     "output_type": "execute_result"
    }
   ],
   "source": [
    "Hitters = load_data('Hitters')\n",
    "Hitters = Hitters.dropna()\n",
    "Hitters.shape, Hitters.isna().sum().sum()"
   ]
  },
  {
   "cell_type": "code",
   "execution_count": 3,
   "id": "76caf108-0119-42ee-ac56-2c28bf29beeb",
   "metadata": {},
   "outputs": [
    {
     "data": {
      "text/html": [
       "<div>\n",
       "<style scoped>\n",
       "    .dataframe tbody tr th:only-of-type {\n",
       "        vertical-align: middle;\n",
       "    }\n",
       "\n",
       "    .dataframe tbody tr th {\n",
       "        vertical-align: top;\n",
       "    }\n",
       "\n",
       "    .dataframe thead th {\n",
       "        text-align: right;\n",
       "    }\n",
       "</style>\n",
       "<table border=\"1\" class=\"dataframe\">\n",
       "  <thead>\n",
       "    <tr style=\"text-align: right;\">\n",
       "      <th></th>\n",
       "      <th>AtBat</th>\n",
       "      <th>Hits</th>\n",
       "      <th>HmRun</th>\n",
       "      <th>Runs</th>\n",
       "      <th>RBI</th>\n",
       "      <th>Walks</th>\n",
       "      <th>Years</th>\n",
       "      <th>CAtBat</th>\n",
       "      <th>CHits</th>\n",
       "      <th>CHmRun</th>\n",
       "      <th>CRuns</th>\n",
       "      <th>CRBI</th>\n",
       "      <th>CWalks</th>\n",
       "      <th>League</th>\n",
       "      <th>Division</th>\n",
       "      <th>PutOuts</th>\n",
       "      <th>Assists</th>\n",
       "      <th>Errors</th>\n",
       "      <th>Salary</th>\n",
       "      <th>NewLeague</th>\n",
       "    </tr>\n",
       "  </thead>\n",
       "  <tbody>\n",
       "    <tr>\n",
       "      <th>1</th>\n",
       "      <td>315</td>\n",
       "      <td>81</td>\n",
       "      <td>7</td>\n",
       "      <td>24</td>\n",
       "      <td>38</td>\n",
       "      <td>39</td>\n",
       "      <td>14</td>\n",
       "      <td>3449</td>\n",
       "      <td>835</td>\n",
       "      <td>69</td>\n",
       "      <td>321</td>\n",
       "      <td>414</td>\n",
       "      <td>375</td>\n",
       "      <td>N</td>\n",
       "      <td>W</td>\n",
       "      <td>632</td>\n",
       "      <td>43</td>\n",
       "      <td>10</td>\n",
       "      <td>475.0</td>\n",
       "      <td>N</td>\n",
       "    </tr>\n",
       "    <tr>\n",
       "      <th>2</th>\n",
       "      <td>479</td>\n",
       "      <td>130</td>\n",
       "      <td>18</td>\n",
       "      <td>66</td>\n",
       "      <td>72</td>\n",
       "      <td>76</td>\n",
       "      <td>3</td>\n",
       "      <td>1624</td>\n",
       "      <td>457</td>\n",
       "      <td>63</td>\n",
       "      <td>224</td>\n",
       "      <td>266</td>\n",
       "      <td>263</td>\n",
       "      <td>A</td>\n",
       "      <td>W</td>\n",
       "      <td>880</td>\n",
       "      <td>82</td>\n",
       "      <td>14</td>\n",
       "      <td>480.0</td>\n",
       "      <td>A</td>\n",
       "    </tr>\n",
       "    <tr>\n",
       "      <th>3</th>\n",
       "      <td>496</td>\n",
       "      <td>141</td>\n",
       "      <td>20</td>\n",
       "      <td>65</td>\n",
       "      <td>78</td>\n",
       "      <td>37</td>\n",
       "      <td>11</td>\n",
       "      <td>5628</td>\n",
       "      <td>1575</td>\n",
       "      <td>225</td>\n",
       "      <td>828</td>\n",
       "      <td>838</td>\n",
       "      <td>354</td>\n",
       "      <td>N</td>\n",
       "      <td>E</td>\n",
       "      <td>200</td>\n",
       "      <td>11</td>\n",
       "      <td>3</td>\n",
       "      <td>500.0</td>\n",
       "      <td>N</td>\n",
       "    </tr>\n",
       "    <tr>\n",
       "      <th>4</th>\n",
       "      <td>321</td>\n",
       "      <td>87</td>\n",
       "      <td>10</td>\n",
       "      <td>39</td>\n",
       "      <td>42</td>\n",
       "      <td>30</td>\n",
       "      <td>2</td>\n",
       "      <td>396</td>\n",
       "      <td>101</td>\n",
       "      <td>12</td>\n",
       "      <td>48</td>\n",
       "      <td>46</td>\n",
       "      <td>33</td>\n",
       "      <td>N</td>\n",
       "      <td>E</td>\n",
       "      <td>805</td>\n",
       "      <td>40</td>\n",
       "      <td>4</td>\n",
       "      <td>91.5</td>\n",
       "      <td>N</td>\n",
       "    </tr>\n",
       "    <tr>\n",
       "      <th>5</th>\n",
       "      <td>594</td>\n",
       "      <td>169</td>\n",
       "      <td>4</td>\n",
       "      <td>74</td>\n",
       "      <td>51</td>\n",
       "      <td>35</td>\n",
       "      <td>11</td>\n",
       "      <td>4408</td>\n",
       "      <td>1133</td>\n",
       "      <td>19</td>\n",
       "      <td>501</td>\n",
       "      <td>336</td>\n",
       "      <td>194</td>\n",
       "      <td>A</td>\n",
       "      <td>W</td>\n",
       "      <td>282</td>\n",
       "      <td>421</td>\n",
       "      <td>25</td>\n",
       "      <td>750.0</td>\n",
       "      <td>A</td>\n",
       "    </tr>\n",
       "  </tbody>\n",
       "</table>\n",
       "</div>"
      ],
      "text/plain": [
       "   AtBat  Hits  HmRun  Runs  RBI  Walks  Years  CAtBat  CHits  CHmRun  CRuns  \\\n",
       "1    315    81      7    24   38     39     14    3449    835      69    321   \n",
       "2    479   130     18    66   72     76      3    1624    457      63    224   \n",
       "3    496   141     20    65   78     37     11    5628   1575     225    828   \n",
       "4    321    87     10    39   42     30      2     396    101      12     48   \n",
       "5    594   169      4    74   51     35     11    4408   1133      19    501   \n",
       "\n",
       "   CRBI  CWalks League Division  PutOuts  Assists  Errors  Salary NewLeague  \n",
       "1   414     375      N        W      632       43      10   475.0         N  \n",
       "2   266     263      A        W      880       82      14   480.0         A  \n",
       "3   838     354      N        E      200       11       3   500.0         N  \n",
       "4    46      33      N        E      805       40       4    91.5         N  \n",
       "5   336     194      A        W      282      421      25   750.0         A  "
      ]
     },
     "execution_count": 3,
     "metadata": {},
     "output_type": "execute_result"
    }
   ],
   "source": [
    "Hitters.head()"
   ]
  },
  {
   "cell_type": "markdown",
   "id": "95c95b83-547f-49ab-b75c-85f7e215d0aa",
   "metadata": {},
   "source": [
    "## Dummy variable\n",
    "<p style='color:red'>Note that there are three factors and how could we convert them to the matrix?</p>"
   ]
  },
  {
   "cell_type": "code",
   "execution_count": 4,
   "id": "d10ee22b-79c0-4d2d-ad27-870ef7c94073",
   "metadata": {},
   "outputs": [
    {
     "name": "stdout",
     "output_type": "stream",
     "text": [
      "       League Division NewLeague\n",
      "count     263      263       263\n",
      "unique      2        2         2\n",
      "top         A        W         A\n",
      "freq      139      134       141\n"
     ]
    }
   ],
   "source": [
    "print(Hitters[[\"League\", \"Division\", \"NewLeague\"]].describe())"
   ]
  },
  {
   "cell_type": "code",
   "execution_count": 5,
   "id": "7170792b-d006-4a37-a089-ab1538b967fd",
   "metadata": {},
   "outputs": [
    {
     "name": "stdout",
     "output_type": "stream",
     "text": [
      "Division    E       W    \n",
      "NewLeague   A   N   A   N\n",
      "League                   \n",
      "A          64   4  67   4\n",
      "N           5  56   5  58\n"
     ]
    }
   ],
   "source": [
    "print(pd.crosstab(index=Hitters[\"League\"], columns=[Hitters[\"Division\"], Hitters[\"NewLeague\"]]))"
   ]
  },
  {
   "cell_type": "markdown",
   "id": "381f77cd-a61e-430f-a81d-9f5fe622a670",
   "metadata": {},
   "source": [
    "Based on one factor with two levels, e.g., \"League\", we can divide all the players into two groups with one dummy variable."
   ]
  },
  {
   "cell_type": "code",
   "execution_count": 6,
   "id": "004c0ead-5030-4141-b292-cc2b6e0b904c",
   "metadata": {},
   "outputs": [],
   "source": [
    "#design = MS(Hitters.columns.drop('Salary')).fit(Hitters)\n",
    "#D = design.fit_transform(Hitters)\n",
    "#D = D.drop('intercept', axis=1)\n",
    "#X = np.asarray(D)\n",
    "#X"
   ]
  },
  {
   "cell_type": "code",
   "execution_count": 7,
   "id": "071029f2-f333-4185-b05b-351a3615fe53",
   "metadata": {},
   "outputs": [],
   "source": [
    "X = Hitters.drop(\"Salary\", axis=1)\n",
    "y = Hitters[\"Salary\"]"
   ]
  },
  {
   "cell_type": "code",
   "execution_count": 8,
   "id": "4860ac2c-07ea-4889-8787-eff344433934",
   "metadata": {},
   "outputs": [],
   "source": [
    "# Convert categorical variables to dummy variables\n",
    "X = pd.get_dummies(X, drop_first=True)"
   ]
  },
  {
   "cell_type": "code",
   "execution_count": 9,
   "id": "79508818-968a-49d1-9c82-4eccd6c08c0e",
   "metadata": {},
   "outputs": [
    {
     "data": {
      "text/html": [
       "<div>\n",
       "<style scoped>\n",
       "    .dataframe tbody tr th:only-of-type {\n",
       "        vertical-align: middle;\n",
       "    }\n",
       "\n",
       "    .dataframe tbody tr th {\n",
       "        vertical-align: top;\n",
       "    }\n",
       "\n",
       "    .dataframe thead th {\n",
       "        text-align: right;\n",
       "    }\n",
       "</style>\n",
       "<table border=\"1\" class=\"dataframe\">\n",
       "  <thead>\n",
       "    <tr style=\"text-align: right;\">\n",
       "      <th></th>\n",
       "      <th>AtBat</th>\n",
       "      <th>Hits</th>\n",
       "      <th>HmRun</th>\n",
       "      <th>Runs</th>\n",
       "      <th>RBI</th>\n",
       "      <th>Walks</th>\n",
       "      <th>Years</th>\n",
       "      <th>CAtBat</th>\n",
       "      <th>CHits</th>\n",
       "      <th>CHmRun</th>\n",
       "      <th>CRuns</th>\n",
       "      <th>CRBI</th>\n",
       "      <th>CWalks</th>\n",
       "      <th>PutOuts</th>\n",
       "      <th>Assists</th>\n",
       "      <th>Errors</th>\n",
       "      <th>League_N</th>\n",
       "      <th>Division_W</th>\n",
       "      <th>NewLeague_N</th>\n",
       "    </tr>\n",
       "  </thead>\n",
       "  <tbody>\n",
       "    <tr>\n",
       "      <th>1</th>\n",
       "      <td>315</td>\n",
       "      <td>81</td>\n",
       "      <td>7</td>\n",
       "      <td>24</td>\n",
       "      <td>38</td>\n",
       "      <td>39</td>\n",
       "      <td>14</td>\n",
       "      <td>3449</td>\n",
       "      <td>835</td>\n",
       "      <td>69</td>\n",
       "      <td>321</td>\n",
       "      <td>414</td>\n",
       "      <td>375</td>\n",
       "      <td>632</td>\n",
       "      <td>43</td>\n",
       "      <td>10</td>\n",
       "      <td>1</td>\n",
       "      <td>1</td>\n",
       "      <td>1</td>\n",
       "    </tr>\n",
       "    <tr>\n",
       "      <th>2</th>\n",
       "      <td>479</td>\n",
       "      <td>130</td>\n",
       "      <td>18</td>\n",
       "      <td>66</td>\n",
       "      <td>72</td>\n",
       "      <td>76</td>\n",
       "      <td>3</td>\n",
       "      <td>1624</td>\n",
       "      <td>457</td>\n",
       "      <td>63</td>\n",
       "      <td>224</td>\n",
       "      <td>266</td>\n",
       "      <td>263</td>\n",
       "      <td>880</td>\n",
       "      <td>82</td>\n",
       "      <td>14</td>\n",
       "      <td>0</td>\n",
       "      <td>1</td>\n",
       "      <td>0</td>\n",
       "    </tr>\n",
       "    <tr>\n",
       "      <th>3</th>\n",
       "      <td>496</td>\n",
       "      <td>141</td>\n",
       "      <td>20</td>\n",
       "      <td>65</td>\n",
       "      <td>78</td>\n",
       "      <td>37</td>\n",
       "      <td>11</td>\n",
       "      <td>5628</td>\n",
       "      <td>1575</td>\n",
       "      <td>225</td>\n",
       "      <td>828</td>\n",
       "      <td>838</td>\n",
       "      <td>354</td>\n",
       "      <td>200</td>\n",
       "      <td>11</td>\n",
       "      <td>3</td>\n",
       "      <td>1</td>\n",
       "      <td>0</td>\n",
       "      <td>1</td>\n",
       "    </tr>\n",
       "    <tr>\n",
       "      <th>4</th>\n",
       "      <td>321</td>\n",
       "      <td>87</td>\n",
       "      <td>10</td>\n",
       "      <td>39</td>\n",
       "      <td>42</td>\n",
       "      <td>30</td>\n",
       "      <td>2</td>\n",
       "      <td>396</td>\n",
       "      <td>101</td>\n",
       "      <td>12</td>\n",
       "      <td>48</td>\n",
       "      <td>46</td>\n",
       "      <td>33</td>\n",
       "      <td>805</td>\n",
       "      <td>40</td>\n",
       "      <td>4</td>\n",
       "      <td>1</td>\n",
       "      <td>0</td>\n",
       "      <td>1</td>\n",
       "    </tr>\n",
       "    <tr>\n",
       "      <th>5</th>\n",
       "      <td>594</td>\n",
       "      <td>169</td>\n",
       "      <td>4</td>\n",
       "      <td>74</td>\n",
       "      <td>51</td>\n",
       "      <td>35</td>\n",
       "      <td>11</td>\n",
       "      <td>4408</td>\n",
       "      <td>1133</td>\n",
       "      <td>19</td>\n",
       "      <td>501</td>\n",
       "      <td>336</td>\n",
       "      <td>194</td>\n",
       "      <td>282</td>\n",
       "      <td>421</td>\n",
       "      <td>25</td>\n",
       "      <td>0</td>\n",
       "      <td>1</td>\n",
       "      <td>0</td>\n",
       "    </tr>\n",
       "  </tbody>\n",
       "</table>\n",
       "</div>"
      ],
      "text/plain": [
       "   AtBat  Hits  HmRun  Runs  RBI  Walks  Years  CAtBat  CHits  CHmRun  CRuns  \\\n",
       "1    315    81      7    24   38     39     14    3449    835      69    321   \n",
       "2    479   130     18    66   72     76      3    1624    457      63    224   \n",
       "3    496   141     20    65   78     37     11    5628   1575     225    828   \n",
       "4    321    87     10    39   42     30      2     396    101      12     48   \n",
       "5    594   169      4    74   51     35     11    4408   1133      19    501   \n",
       "\n",
       "   CRBI  CWalks  PutOuts  Assists  Errors  League_N  Division_W  NewLeague_N  \n",
       "1   414     375      632       43      10         1           1            1  \n",
       "2   266     263      880       82      14         0           1            0  \n",
       "3   838     354      200       11       3         1           0            1  \n",
       "4    46      33      805       40       4         1           0            1  \n",
       "5   336     194      282      421      25         0           1            0  "
      ]
     },
     "execution_count": 9,
     "metadata": {},
     "output_type": "execute_result"
    }
   ],
   "source": [
    "X.head()"
   ]
  },
  {
   "cell_type": "code",
   "execution_count": 10,
   "id": "d1f5b2db-db1c-4188-97db-b1c297d85f98",
   "metadata": {},
   "outputs": [],
   "source": [
    "#X.insert(loc = 0, column = 'Intercept', value = 1)\n",
    "#X.head()"
   ]
  },
  {
   "cell_type": "code",
   "execution_count": 11,
   "id": "74b95179-cf6c-4560-b55e-6723e0c02473",
   "metadata": {},
   "outputs": [
    {
     "data": {
      "text/plain": [
       "1    475.0\n",
       "2    480.0\n",
       "3    500.0\n",
       "4     91.5\n",
       "5    750.0\n",
       "Name: Salary, dtype: float64"
      ]
     },
     "execution_count": 11,
     "metadata": {},
     "output_type": "execute_result"
    }
   ],
   "source": [
    "y.head()"
   ]
  },
  {
   "cell_type": "markdown",
   "id": "ca71d195-de82-48e2-a676-a0b883fb915f",
   "metadata": {},
   "source": [
    "## `l1_ratio` and `alpha` arguments in `skl.ElasticNet()` \n",
    "\n",
    "- `l1_ratio = 0` then a __ridge__ regression; `l1_ratio = 1` then a __lasso__ regression; `1 > l1_ratio > 0` then a combination of __ridge__ regression and __lasso__ regression. By default, `l1_ratio = 0.5`. \n",
    "\n",
    "- The parameter $\\lambda$ is called `alphas` in `sklearn`. In order to be consistent with the rest of this chapter, we use `lambdas` rather than `alphas` in what follows.\n",
    "\n",
    "- For demonstration, we manually choose a grid of values ranging from $\\lambda=10^{10}$ to $\\lambda=10^{-2}$ for the argument `lambda` in `glmnet()` of R (Actually `glmnet()` will scale `lambda` by 1/(sd of y)). It covers the full range of scenarios from the null model containing only the intercept, to the least squares fit.\n",
    "\n",
    "- `glmnet()` will standardize x variable by default prior to fitting the model sequence, and the coefficients are always returned on the original scale. So to get the same results with R, we need to standardize x at first and transform the coefficients after fitting the model.\n",
    "\n",
    "- `fit_intercept` specifies whether the intercept should be estimated or not. If False, the data is assumed to be already centered. And the default value is True."
   ]
  },
  {
   "cell_type": "markdown",
   "id": "e04626af-bfef-445b-a097-4cf56ea9650b",
   "metadata": {},
   "source": [
    "### Ridge Regression: `l1_ratio = 0`"
   ]
  },
  {
   "cell_type": "code",
   "execution_count": 12,
   "id": "680c5834-7430-496d-a215-7f07344b0e52",
   "metadata": {},
   "outputs": [],
   "source": [
    "grid = np.power(10, np.linspace(10, -2, 100))"
   ]
  },
  {
   "cell_type": "code",
   "execution_count": 13,
   "id": "bdf4c78f",
   "metadata": {},
   "outputs": [],
   "source": [
    "# Standardize X by subtracting each column by its mean and dividing it by its standard deviation\n",
    "Xs = X - X.mean(0)[None,:]\n",
    "X_scale = X.std(0)\n",
    "Xs = Xs / X_scale[None,:]"
   ]
  },
  {
   "cell_type": "code",
   "execution_count": 14,
   "id": "8b634fbb-07de-4f0e-a169-6440f08c7621",
   "metadata": {},
   "outputs": [],
   "source": [
    "ridge_coef = np.zeros((1+X.shape[1], len(grid))) # store the coefficients for intercept and predictor variables"
   ]
  },
  {
   "cell_type": "markdown",
   "id": "99e763f2-6a17-4df8-b2fb-8da69a88e37a",
   "metadata": {},
   "source": [
    "- Associated with each value of λ is a vector of ridge regression coefficients, which can be stored in a matrix that can be accessed by `.intercept_` and `.coef_`. \n",
    "- In this case, it is a $20 \\times 100$ matrix, with 20 rows (one for each predictor, plus an intercept) and 100 columns (one for each value of λ)."
   ]
  },
  {
   "cell_type": "code",
   "execution_count": 15,
   "id": "d3762a31-defa-445f-aedb-9cf304cf2846",
   "metadata": {},
   "outputs": [],
   "source": [
    "for i in np.arange(len(grid)):\n",
    "    # scale lambda\n",
    "    ridge = skl.ElasticNet(l1_ratio=0.,alpha=grid[i]/(y.std())).fit(Xs,y)\n",
    "    # Returning coefficients on the original scale\n",
    "    ridge_coef[0, i] = ridge.intercept_ - (X.mean(0)[None,:]*ridge.coef_/X.std(0))[0].sum()\n",
    "    ridge_coef[1:ridge_coef.shape[0], i] = ridge.coef_/X.std(0)"
   ]
  },
  {
   "cell_type": "code",
   "execution_count": 16,
   "id": "4bf9dde6-4b32-450f-895a-35b4e5e386c0",
   "metadata": {},
   "outputs": [
    {
     "data": {
      "text/plain": [
       "(20, 100)"
      ]
     },
     "execution_count": 16,
     "metadata": {},
     "output_type": "execute_result"
    }
   ],
   "source": [
    "ridge_coef.shape"
   ]
  },
  {
   "cell_type": "code",
   "execution_count": 17,
   "id": "da17b9ae-aa7d-4020-a0dd-341e72fe317b",
   "metadata": {},
   "outputs": [
    {
     "data": {
      "text/html": [
       "<div>\n",
       "<style scoped>\n",
       "    .dataframe tbody tr th:only-of-type {\n",
       "        vertical-align: middle;\n",
       "    }\n",
       "\n",
       "    .dataframe tbody tr th {\n",
       "        vertical-align: top;\n",
       "    }\n",
       "\n",
       "    .dataframe thead th {\n",
       "        text-align: right;\n",
       "    }\n",
       "</style>\n",
       "<table border=\"1\" class=\"dataframe\">\n",
       "  <thead>\n",
       "    <tr style=\"text-align: right;\">\n",
       "      <th></th>\n",
       "      <th>0</th>\n",
       "      <th>1</th>\n",
       "      <th>2</th>\n",
       "      <th>3</th>\n",
       "      <th>4</th>\n",
       "      <th>5</th>\n",
       "    </tr>\n",
       "  </thead>\n",
       "  <tbody>\n",
       "    <tr>\n",
       "      <th>0</th>\n",
       "      <td>5.359257e+02</td>\n",
       "      <td>5.359256e+02</td>\n",
       "      <td>5.359256e+02</td>\n",
       "      <td>5.359254e+02</td>\n",
       "      <td>5.359253e+02</td>\n",
       "      <td>5.359251e+02</td>\n",
       "    </tr>\n",
       "    <tr>\n",
       "      <th>1</th>\n",
       "      <td>5.433106e-08</td>\n",
       "      <td>7.182246e-08</td>\n",
       "      <td>9.494505e-08</td>\n",
       "      <td>1.255118e-07</td>\n",
       "      <td>1.659191e-07</td>\n",
       "      <td>2.193352e-07</td>\n",
       "    </tr>\n",
       "    <tr>\n",
       "      <th>2</th>\n",
       "      <td>1.970831e-07</td>\n",
       "      <td>2.605322e-07</td>\n",
       "      <td>3.444082e-07</td>\n",
       "      <td>4.552873e-07</td>\n",
       "      <td>6.018629e-07</td>\n",
       "      <td>7.956271e-07</td>\n",
       "    </tr>\n",
       "    <tr>\n",
       "      <th>3</th>\n",
       "      <td>7.941380e-07</td>\n",
       "      <td>1.049804e-06</td>\n",
       "      <td>1.387778e-06</td>\n",
       "      <td>1.834561e-06</td>\n",
       "      <td>2.425181e-06</td>\n",
       "      <td>3.205945e-06</td>\n",
       "    </tr>\n",
       "    <tr>\n",
       "      <th>4</th>\n",
       "      <td>3.332823e-07</td>\n",
       "      <td>4.405796e-07</td>\n",
       "      <td>5.824202e-07</td>\n",
       "      <td>7.699251e-07</td>\n",
       "      <td>1.017795e-06</td>\n",
       "      <td>1.345465e-06</td>\n",
       "    </tr>\n",
       "    <tr>\n",
       "      <th>5</th>\n",
       "      <td>3.520509e-07</td>\n",
       "      <td>4.653905e-07</td>\n",
       "      <td>6.152188e-07</td>\n",
       "      <td>8.132829e-07</td>\n",
       "      <td>1.075112e-06</td>\n",
       "      <td>1.421234e-06</td>\n",
       "    </tr>\n",
       "    <tr>\n",
       "      <th>6</th>\n",
       "      <td>4.143422e-07</td>\n",
       "      <td>5.477360e-07</td>\n",
       "      <td>7.240747e-07</td>\n",
       "      <td>9.571839e-07</td>\n",
       "      <td>1.265341e-06</td>\n",
       "      <td>1.672705e-06</td>\n",
       "    </tr>\n",
       "    <tr>\n",
       "      <th>7</th>\n",
       "      <td>1.694480e-06</td>\n",
       "      <td>2.240003e-06</td>\n",
       "      <td>2.961151e-06</td>\n",
       "      <td>3.914467e-06</td>\n",
       "      <td>5.174694e-06</td>\n",
       "      <td>6.840638e-06</td>\n",
       "    </tr>\n",
       "    <tr>\n",
       "      <th>8</th>\n",
       "      <td>4.664848e-09</td>\n",
       "      <td>6.166654e-09</td>\n",
       "      <td>8.151953e-09</td>\n",
       "      <td>1.077640e-08</td>\n",
       "      <td>1.424576e-08</td>\n",
       "      <td>1.883205e-08</td>\n",
       "    </tr>\n",
       "    <tr>\n",
       "      <th>9</th>\n",
       "      <td>1.716797e-08</td>\n",
       "      <td>2.269505e-08</td>\n",
       "      <td>3.000151e-08</td>\n",
       "      <td>3.966023e-08</td>\n",
       "      <td>5.242847e-08</td>\n",
       "      <td>6.930734e-08</td>\n",
       "    </tr>\n",
       "    <tr>\n",
       "      <th>10</th>\n",
       "      <td>1.294702e-07</td>\n",
       "      <td>1.711520e-07</td>\n",
       "      <td>2.262528e-07</td>\n",
       "      <td>2.990928e-07</td>\n",
       "      <td>3.953830e-07</td>\n",
       "      <td>5.226729e-07</td>\n",
       "    </tr>\n",
       "    <tr>\n",
       "      <th>11</th>\n",
       "      <td>3.444279e-08</td>\n",
       "      <td>4.553133e-08</td>\n",
       "      <td>6.018973e-08</td>\n",
       "      <td>7.956727e-08</td>\n",
       "      <td>1.051832e-07</td>\n",
       "      <td>1.390460e-07</td>\n",
       "    </tr>\n",
       "    <tr>\n",
       "      <th>12</th>\n",
       "      <td>3.554571e-08</td>\n",
       "      <td>4.698933e-08</td>\n",
       "      <td>6.211712e-08</td>\n",
       "      <td>8.211517e-08</td>\n",
       "      <td>1.085514e-07</td>\n",
       "      <td>1.434985e-07</td>\n",
       "    </tr>\n",
       "    <tr>\n",
       "      <th>13</th>\n",
       "      <td>3.760707e-08</td>\n",
       "      <td>4.971433e-08</td>\n",
       "      <td>6.571941e-08</td>\n",
       "      <td>8.687717e-08</td>\n",
       "      <td>1.148465e-07</td>\n",
       "      <td>1.518202e-07</td>\n",
       "    </tr>\n",
       "    <tr>\n",
       "      <th>14</th>\n",
       "      <td>2.176139e-08</td>\n",
       "      <td>2.876727e-08</td>\n",
       "      <td>3.802864e-08</td>\n",
       "      <td>5.027162e-08</td>\n",
       "      <td>6.645611e-08</td>\n",
       "      <td>8.785106e-08</td>\n",
       "    </tr>\n",
       "    <tr>\n",
       "      <th>15</th>\n",
       "      <td>3.554422e-09</td>\n",
       "      <td>4.698736e-09</td>\n",
       "      <td>6.211452e-09</td>\n",
       "      <td>8.211173e-09</td>\n",
       "      <td>1.085469e-08</td>\n",
       "      <td>1.434925e-08</td>\n",
       "    </tr>\n",
       "    <tr>\n",
       "      <th>16</th>\n",
       "      <td>-1.657300e-08</td>\n",
       "      <td>-2.190854e-08</td>\n",
       "      <td>-2.896181e-08</td>\n",
       "      <td>-3.828581e-08</td>\n",
       "      <td>-5.061161e-08</td>\n",
       "      <td>-6.690561e-08</td>\n",
       "    </tr>\n",
       "    <tr>\n",
       "      <th>17</th>\n",
       "      <td>-5.789225e-07</td>\n",
       "      <td>-7.653010e-07</td>\n",
       "      <td>-1.011682e-06</td>\n",
       "      <td>-1.337383e-06</td>\n",
       "      <td>-1.767939e-06</td>\n",
       "      <td>-2.337107e-06</td>\n",
       "    </tr>\n",
       "    <tr>\n",
       "      <th>18</th>\n",
       "      <td>-7.792406e-06</td>\n",
       "      <td>-1.030110e-05</td>\n",
       "      <td>-1.361745e-05</td>\n",
       "      <td>-1.800147e-05</td>\n",
       "      <td>-2.379688e-05</td>\n",
       "      <td>-3.145807e-05</td>\n",
       "    </tr>\n",
       "    <tr>\n",
       "      <th>19</th>\n",
       "      <td>-1.150095e-07</td>\n",
       "      <td>-1.520355e-07</td>\n",
       "      <td>-2.009814e-07</td>\n",
       "      <td>-2.656846e-07</td>\n",
       "      <td>-3.512178e-07</td>\n",
       "      <td>-4.642864e-07</td>\n",
       "    </tr>\n",
       "  </tbody>\n",
       "</table>\n",
       "</div>"
      ],
      "text/plain": [
       "               0             1             2             3             4  \\\n",
       "0   5.359257e+02  5.359256e+02  5.359256e+02  5.359254e+02  5.359253e+02   \n",
       "1   5.433106e-08  7.182246e-08  9.494505e-08  1.255118e-07  1.659191e-07   \n",
       "2   1.970831e-07  2.605322e-07  3.444082e-07  4.552873e-07  6.018629e-07   \n",
       "3   7.941380e-07  1.049804e-06  1.387778e-06  1.834561e-06  2.425181e-06   \n",
       "4   3.332823e-07  4.405796e-07  5.824202e-07  7.699251e-07  1.017795e-06   \n",
       "5   3.520509e-07  4.653905e-07  6.152188e-07  8.132829e-07  1.075112e-06   \n",
       "6   4.143422e-07  5.477360e-07  7.240747e-07  9.571839e-07  1.265341e-06   \n",
       "7   1.694480e-06  2.240003e-06  2.961151e-06  3.914467e-06  5.174694e-06   \n",
       "8   4.664848e-09  6.166654e-09  8.151953e-09  1.077640e-08  1.424576e-08   \n",
       "9   1.716797e-08  2.269505e-08  3.000151e-08  3.966023e-08  5.242847e-08   \n",
       "10  1.294702e-07  1.711520e-07  2.262528e-07  2.990928e-07  3.953830e-07   \n",
       "11  3.444279e-08  4.553133e-08  6.018973e-08  7.956727e-08  1.051832e-07   \n",
       "12  3.554571e-08  4.698933e-08  6.211712e-08  8.211517e-08  1.085514e-07   \n",
       "13  3.760707e-08  4.971433e-08  6.571941e-08  8.687717e-08  1.148465e-07   \n",
       "14  2.176139e-08  2.876727e-08  3.802864e-08  5.027162e-08  6.645611e-08   \n",
       "15  3.554422e-09  4.698736e-09  6.211452e-09  8.211173e-09  1.085469e-08   \n",
       "16 -1.657300e-08 -2.190854e-08 -2.896181e-08 -3.828581e-08 -5.061161e-08   \n",
       "17 -5.789225e-07 -7.653010e-07 -1.011682e-06 -1.337383e-06 -1.767939e-06   \n",
       "18 -7.792406e-06 -1.030110e-05 -1.361745e-05 -1.800147e-05 -2.379688e-05   \n",
       "19 -1.150095e-07 -1.520355e-07 -2.009814e-07 -2.656846e-07 -3.512178e-07   \n",
       "\n",
       "               5  \n",
       "0   5.359251e+02  \n",
       "1   2.193352e-07  \n",
       "2   7.956271e-07  \n",
       "3   3.205945e-06  \n",
       "4   1.345465e-06  \n",
       "5   1.421234e-06  \n",
       "6   1.672705e-06  \n",
       "7   6.840638e-06  \n",
       "8   1.883205e-08  \n",
       "9   6.930734e-08  \n",
       "10  5.226729e-07  \n",
       "11  1.390460e-07  \n",
       "12  1.434985e-07  \n",
       "13  1.518202e-07  \n",
       "14  8.785106e-08  \n",
       "15  1.434925e-08  \n",
       "16 -6.690561e-08  \n",
       "17 -2.337107e-06  \n",
       "18 -3.145807e-05  \n",
       "19 -4.642864e-07  "
      ]
     },
     "execution_count": 17,
     "metadata": {},
     "output_type": "execute_result"
    }
   ],
   "source": [
    "pd.DataFrame(ridge_coef[:, 0:6])"
   ]
  },
  {
   "cell_type": "markdown",
   "id": "ddcbf6e4-60c8-454d-b4c7-83edc8157385",
   "metadata": {},
   "source": [
    "- We expect the coefficient estimates to be much smaller, in terms of $l_2$ norm,when a large value of λ is used, as compared to when a small value of λ is used. \n",
    "- These are the coefficients when $\\lambda = 11498$, along with their $l_2$ norm:"
   ]
  },
  {
   "cell_type": "code",
   "execution_count": 18,
   "id": "4d34e077-f6e7-4c16-b3eb-b3f2a15dcaf2",
   "metadata": {},
   "outputs": [
    {
     "data": {
      "text/plain": [
       "(11497.569953977356,\n",
       " array([ 4.07547952e+02,  3.69027645e-02,  1.37968039e-01,  5.23880049e-01,\n",
       "         2.30351728e-01,  2.39484332e-01,  2.89173946e-01,  1.10612926e+00,\n",
       "         3.12721728e-03,  1.16363088e-02,  8.74162339e-02,  2.33451648e-02,\n",
       "         2.41024628e-02,  2.49792475e-02,  1.64550335e-02,  2.60878388e-03,\n",
       "        -2.04530958e-02,  8.40492092e-02, -6.20453551e+00,  3.00323091e-01]),\n",
       " 6.34950054683465)"
      ]
     },
     "execution_count": 18,
     "metadata": {},
     "output_type": "execute_result"
    }
   ],
   "source": [
    "# note that the order of predictor variables here are different from that in R\n",
    "grid[49], ridge_coef[:, 49], np.sqrt(np.sum(ridge_coef[1:, 49]**2))"
   ]
  },
  {
   "cell_type": "markdown",
   "id": "dbc3c79b-5fe0-4c67-bb18-dc7a9661310a",
   "metadata": {},
   "source": [
    "- In contrast, here are the coefficients when $\\lambda = 705$, along with their $l_2$ norm. \n",
    "- Note the much larger $l_2$ norm of the coefficients associated with this smaller value of λ."
   ]
  },
  {
   "cell_type": "code",
   "execution_count": 19,
   "id": "768dd0a4-bf25-490d-8cc5-dee532a9c9aa",
   "metadata": {},
   "outputs": [
    {
     "data": {
      "text/plain": [
       "(705.4802310718645,\n",
       " array([ 5.45020144e+01,  1.12011936e-01,  6.55368744e-01,  1.17930032e+00,\n",
       "         9.37303001e-01,  8.47178009e-01,  1.31945785e+00,  2.59510794e+00,\n",
       "         1.08432990e-02,  4.67855800e-02,  3.38034312e-01,  9.35366393e-02,\n",
       "         9.76996359e-02,  7.18120850e-02,  1.18417065e-01,  1.60649474e-02,\n",
       "        -7.01607669e-01,  1.36608260e+01, -5.46009965e+01,  8.60416276e+00]),\n",
       " 57.0479602969953)"
      ]
     },
     "execution_count": 19,
     "metadata": {},
     "output_type": "execute_result"
    }
   ],
   "source": [
    "grid[59], ridge_coef[:, 59], np.sqrt(np.sum(ridge_coef[1:, 59]**2))"
   ]
  },
  {
   "cell_type": "markdown",
   "id": "f7aad4d7-612b-4339-9bf0-0f9e956bd939",
   "metadata": {},
   "source": [
    "When $\\lambda = 10^{10}$, everything is almost 0 except the intercept!"
   ]
  },
  {
   "cell_type": "code",
   "execution_count": 20,
   "id": "79af25f4-8ff2-4790-8563-6d3bc84ad764",
   "metadata": {},
   "outputs": [
    {
     "data": {
      "text/plain": [
       "(10000000000.0,\n",
       " array([ 5.35925694e+02,  5.43310637e-08,  1.97083069e-07,  7.94138021e-07,\n",
       "         3.33282330e-07,  3.52050887e-07,  4.14342233e-07,  1.69448020e-06,\n",
       "         4.66484814e-09,  1.71679733e-08,  1.29470206e-07,  3.44427867e-08,\n",
       "         3.55457109e-08,  3.76070710e-08,  2.17613897e-08,  3.55442155e-09,\n",
       "        -1.65730041e-08, -5.78922514e-07, -7.79240649e-06, -1.15009502e-07]),\n",
       " 8.064867622861788e-06)"
      ]
     },
     "execution_count": 20,
     "metadata": {},
     "output_type": "execute_result"
    }
   ],
   "source": [
    "grid[0], ridge_coef[:, 0], np.sqrt(np.sum(ridge_coef[1:, 0]**2))"
   ]
  },
  {
   "cell_type": "markdown",
   "id": "578fcdd5-6352-4c9e-b251-f1642b549ece",
   "metadata": {},
   "source": [
    "## Let's simply visualize the coefficients!"
   ]
  },
  {
   "cell_type": "code",
   "execution_count": 21,
   "id": "05084476-ec98-4532-83ce-4be1d65bf10a",
   "metadata": {},
   "outputs": [],
   "source": [
    "import matplotlib.pyplot as plt\n",
    "import seaborn as sns"
   ]
  },
  {
   "cell_type": "code",
   "execution_count": 22,
   "id": "1782c420-d41c-41a6-80f4-40af4028f738",
   "metadata": {},
   "outputs": [
    {
     "name": "stdout",
     "output_type": "stream",
     "text": [
      "  Variable  Coefficient lambda\n",
      "0    AtBat     0.036903  11498\n",
      "1     Hits     0.137968  11498\n",
      "2    HmRun     0.523880  11498\n",
      "3     Runs     0.230352  11498\n",
      "4      RBI     0.239484  11498\n"
     ]
    }
   ],
   "source": [
    "coef_ridge = pd.DataFrame({\n",
    "    \"Variable\": np.concatenate([list(X.columns), list(X.columns)]),\n",
    "    \"Coefficient\": np.concatenate([ridge_coef[1:, 49], ridge_coef[1:, 59]]),\n",
    "    \"lambda\": np.repeat([grid[49], grid[59]], 19)\n",
    "})\n",
    "\n",
    "# Round the lambda values and convert to factor\n",
    "coef_ridge[\"lambda\"] = coef_ridge[\"lambda\"].round().astype(int).astype(\"category\")\n",
    "\n",
    "# Print the first few rows\n",
    "print(coef_ridge.head())"
   ]
  },
  {
   "cell_type": "code",
   "execution_count": 23,
   "id": "0307d303-5d5b-40b3-815e-526f7aeb3cfe",
   "metadata": {},
   "outputs": [
    {
     "data": {
      "image/png": "[encoded data removed]",
      "text/plain": [
       "<Figure size 1000x600 with 1 Axes>"
      ]
     },
     "metadata": {},
     "output_type": "display_data"
    }
   ],
   "source": [
    "sns.set_style(\"whitegrid\")\n",
    "plt.figure(figsize=(10, 6))\n",
    "sns.lineplot(data=coef_ridge, x=\"Variable\", y=\"Coefficient\", hue=\"lambda\", linewidth=2)\n",
    "plt.xticks(rotation=90, ha=\"right\", fontsize=12)\n",
    "plt.yticks(fontsize=12)\n",
    "plt.xlabel(\"Variable\", fontsize=14)\n",
    "plt.ylabel(\"Coefficient\", fontsize=14)\n",
    "plt.title(\"Ridge Regression Coefficient Paths\", fontsize=16)\n",
    "plt.show()"
   ]
  },
  {
   "cell_type": "markdown",
   "id": "2d8bdd16-8d2a-4f1a-8435-d3cb8da5fdf4",
   "metadata": {},
   "source": [
    "## `predict()`\n",
    "\n",
    "- We can use the `predict()` function for predictions."
   ]
  },
  {
   "cell_type": "code",
   "execution_count": 24,
   "id": "c4db7013-d4a8-49d6-a69f-aa368924bbcd",
   "metadata": {},
   "outputs": [
    {
     "data": {
      "text/plain": [
       "array([ 4.76352557e+01, -3.51758189e-01,  1.95172654e+00, -1.27258641e+00,\n",
       "        1.15621812e+00,  8.09237557e-01,  2.70283435e+00, -6.11248609e+00,\n",
       "        6.06198114e-03,  1.05924631e-01,  6.20999454e-01,  2.16261775e-01,\n",
       "        2.17168818e-01, -1.46541759e-01,  2.50053159e-01,  1.20358340e-01,\n",
       "       -3.27591440e+00,  4.58210616e+01, -1.18198621e+02, -9.35875173e+00])"
      ]
     },
     "execution_count": 24,
     "metadata": {},
     "output_type": "execute_result"
    }
   ],
   "source": [
    "ridge = skl.ElasticNet(l1_ratio=0.,alpha=50/(y.std())).fit(Xs,y)\n",
    "# Returning coefficients on the original scale\n",
    "ridge_coef = np.concatenate((np.array([ridge.intercept_ - (X.mean(0)[None,:]*ridge.coef_/X.std(0))[0].sum()]), np.array(ridge.coef_/X.std(0))))\n",
    "ridge_coef"
   ]
  },
  {
   "cell_type": "code",
   "execution_count": 25,
   "id": "9ddde360-1ecb-4119-b8a7-2d019bad1b84",
   "metadata": {},
   "outputs": [],
   "source": [
    "# np.dot(np.concatenate((np.ones((Xs.shape[0], 1)), X), axis=1), ridge_coef)[0:19]"
   ]
  },
  {
   "cell_type": "code",
   "execution_count": 26,
   "id": "ac828d3f-25e1-491b-a8e7-2da94910bf57",
   "metadata": {},
   "outputs": [
    {
     "data": {
      "text/plain": [
       "array([ 469.64128111,  662.51341211, 1021.76571708,  505.28692178,\n",
       "        550.14439434,  199.57443099,   79.34554982,  104.54393643,\n",
       "        836.47883562,  864.50025614,  241.91577891,  514.70038065,\n",
       "        302.95028965,  385.13111872, 1080.60283831,   18.58403349,\n",
       "        107.81803851,  483.05467657,  353.5052836 ])"
      ]
     },
     "execution_count": 26,
     "metadata": {},
     "output_type": "execute_result"
    }
   ],
   "source": [
    "ridge.predict(Xs)[0:19, ]"
   ]
  },
  {
   "cell_type": "code",
   "execution_count": 27,
   "id": "6d65a96c-ce04-427a-9212-066828b2e213",
   "metadata": {},
   "outputs": [
    {
     "data": {
      "text/plain": [
       "array([ 5.35925694e+02,  5.43310637e-08,  1.97083069e-07,  7.94138021e-07,\n",
       "        3.33282330e-07,  3.52050887e-07,  4.14342233e-07,  1.69448020e-06,\n",
       "        4.66484814e-09,  1.71679733e-08,  1.29470206e-07,  3.44427867e-08,\n",
       "        3.55457109e-08,  3.76070710e-08,  2.17613897e-08,  3.55442155e-09,\n",
       "       -1.65730041e-08, -5.78922514e-07, -7.79240649e-06, -1.15009502e-07])"
      ]
     },
     "execution_count": 27,
     "metadata": {},
     "output_type": "execute_result"
    }
   ],
   "source": [
    "ridge = skl.ElasticNet(l1_ratio=0.,alpha=1e10/(y.std())).fit(Xs,y)\n",
    "# Returning coefficients on the original scale\n",
    "ridge_coef = np.concatenate((np.array([ridge.intercept_ - (X.mean(0)[None,:]*ridge.coef_/X.std(0))[0].sum()]), np.array(ridge.coef_/X.std(0))))\n",
    "ridge_coef"
   ]
  },
  {
   "cell_type": "code",
   "execution_count": 28,
   "id": "4dea2da4-f84f-406c-b467-303371b71116",
   "metadata": {},
   "outputs": [
    {
     "data": {
      "text/plain": [
       "array([535.92587826, 535.92590579, 535.92600528, 535.92580658,\n",
       "       535.92591679, 535.9257401 , 535.92575199, 535.92576059,\n",
       "       535.92600694, 535.92599895, 535.9258005 , 535.92585777,\n",
       "       535.92579533, 535.92583937, 535.92607655, 535.92574431,\n",
       "       535.92575875, 535.92583423, 535.92581174])"
      ]
     },
     "execution_count": 28,
     "metadata": {},
     "output_type": "execute_result"
    }
   ],
   "source": [
    "ridge.predict(Xs)[0:19, ]"
   ]
  },
  {
   "cell_type": "markdown",
   "id": "a7f731bd-ed2e-4702-b8f0-440a877dc927",
   "metadata": {},
   "source": [
    "- We now split the samples into a training set and a test set in order to estimate the test error of ridge regression and the lasso."
   ]
  },
  {
   "cell_type": "code",
   "execution_count": 29,
   "id": "4661ba83-f37e-4c49-af08-085009e47252",
   "metadata": {},
   "outputs": [],
   "source": [
    "# Split the data into training and test sets\n",
    "np.random.seed(20231107)\n",
    "train = np.random.choice(range(X.shape[0]), size=int(X.shape[0]/2), replace=False)\n",
    "X_train = X.iloc[train, :]\n",
    "X_test = X.iloc[~np.isin(np.arange(X.shape[0]), train), :]\n",
    "\n",
    "Xs_train = X_train - X_train.mean(0)[None,:]\n",
    "Xs_train_scale = X_train.std(0)\n",
    "Xs_train = Xs_train / Xs_train_scale[None,:]\n",
    "\n",
    "Xs_test = X_test - X_test.mean(0)[None,:]\n",
    "Xs_test_scale = X_test.std(0)\n",
    "Xs_test = Xs_test / Xs_test_scale[None,:]\n",
    "\n",
    "y_train = y.iloc[train]\n",
    "y_test = y.iloc[~np.isin(np.arange(X.shape[0]), train)]"
   ]
  },
  {
   "cell_type": "markdown",
   "id": "f176677f-2114-46b2-a7a0-8672613926f4",
   "metadata": {},
   "source": [
    "- When $\\lambda$ is large, all parameters have small absolute values due to strong penalty. The result will be close to the one obtained by fitting only an intercept term"
   ]
  },
  {
   "cell_type": "code",
   "execution_count": 30,
   "id": "4983ec1d-2536-41dc-91f5-184f01de9f20",
   "metadata": {},
   "outputs": [],
   "source": [
    "#X_train.mean(0)[None,:], X_test.mean(0)[None,:], Xs_train_scale[None,:], Xs_test_scale[None,:]"
   ]
  },
  {
   "cell_type": "code",
   "execution_count": 31,
   "id": "54c99fa1-d810-43e1-9a39-8fefd4668e33",
   "metadata": {},
   "outputs": [],
   "source": [
    "ridge = skl.ElasticNet(l1_ratio=0.,alpha=1e10/(y_train.std())).fit(Xs_train,y_train)\n",
    "ridge_pred = ridge.predict(Xs_test)"
   ]
  },
  {
   "cell_type": "code",
   "execution_count": 32,
   "id": "65e22202-6c64-425f-9277-a90d6bc4b629",
   "metadata": {},
   "outputs": [
    {
     "data": {
      "text/plain": [
       "454.7028538550702"
      ]
     },
     "execution_count": 32,
     "metadata": {},
     "output_type": "execute_result"
    }
   ],
   "source": [
    "# The predictions from the model after unstandardization\n",
    "ridge_coef = np.concatenate((np.array([ridge.intercept_ - (X_train.mean(0)[None,:]*ridge.coef_/X_train.std(0))[0].sum()]), np.array(ridge.coef_/X_train.std(0))))\n",
    "pred_manual = np.dot(np.concatenate((np.ones((X_test.shape[0], 1)), X_test), axis=1), ridge_coef)\n",
    "np.sqrt(((pred_manual - y_test)**2).mean())"
   ]
  },
  {
   "cell_type": "code",
   "execution_count": 33,
   "id": "91385c94-a922-4e48-bac8-7a70f0787c61",
   "metadata": {},
   "outputs": [
    {
     "data": {
      "text/plain": [
       "(454.7029112030767, 454.7028515629574)"
      ]
     },
     "execution_count": 33,
     "metadata": {},
     "output_type": "execute_result"
    }
   ],
   "source": [
    "#Fit only the intercept term; ridge regression\n",
    "np.sqrt(((y_train.mean() - y_test)**2).mean()), np.sqrt(((ridge_pred - y_test)**2).mean())"
   ]
  },
  {
   "cell_type": "markdown",
   "id": "3e19be5d-5ab5-4520-87cc-a6cdf7288f26",
   "metadata": {},
   "source": [
    "- When $\\lambda$ is small, all parameters will tend to the LSE due to mild penalty."
   ]
  },
  {
   "cell_type": "code",
   "execution_count": 34,
   "id": "6306c31d-b1c4-4c82-9917-542271f60797",
   "metadata": {},
   "outputs": [
    {
     "data": {
      "text/plain": [
       "298.85475289079443"
      ]
     },
     "execution_count": 34,
     "metadata": {},
     "output_type": "execute_result"
    }
   ],
   "source": [
    "ridge = skl.ElasticNet(l1_ratio=0.,alpha=1/(y_train.std())).fit(Xs_train,y_train)\n",
    "ridge_pred = ridge.predict(Xs_test)\n",
    "np.sqrt(((ridge_pred - y_test)**2).mean())"
   ]
  },
  {
   "cell_type": "code",
   "execution_count": 35,
   "id": "e2e1891c-8400-483e-ad0a-e94605ff9355",
   "metadata": {},
   "outputs": [
    {
     "data": {
      "text/plain": [
       "296.1389871105692"
      ]
     },
     "execution_count": 35,
     "metadata": {},
     "output_type": "execute_result"
    }
   ],
   "source": [
    "# The predictions from the model after unstandardization\n",
    "ridge_coef = np.concatenate((np.array([ridge.intercept_ - (X_train.mean(0)[None,:]*ridge.coef_/X_train.std(0))[0].sum()]), np.array(ridge.coef_/X_train.std(0))))\n",
    "pred_manual = np.dot(np.concatenate((np.ones((X_test.shape[0], 1)), X_test), axis=1), ridge_coef)\n",
    "np.sqrt(((pred_manual - y_test)**2).mean())"
   ]
  },
  {
   "cell_type": "markdown",
   "id": "cd3729f5-693b-416c-947f-f8ee1b4c2812",
   "metadata": {},
   "source": [
    "- When $\\lambda = 0$, the results are expected to be exactly the same as that of linear regression."
   ]
  },
  {
   "cell_type": "code",
   "execution_count": 36,
   "id": "665d8e7b-16a4-4088-a8be-2b08c20c0fa6",
   "metadata": {},
   "outputs": [
    {
     "data": {
      "text/plain": [
       "310.88878746736566"
      ]
     },
     "execution_count": 36,
     "metadata": {},
     "output_type": "execute_result"
    }
   ],
   "source": [
    "ridge = skl.ElasticNet(l1_ratio=0.,alpha=0/(y_train.std())).fit(Xs_train,y_train)\n",
    "ridge_pred = ridge.predict(Xs_test)\n",
    "np.sqrt(((ridge_pred - y_test)**2).mean())"
   ]
  },
  {
   "cell_type": "code",
   "execution_count": 37,
   "id": "e76dc495-55c3-4da5-b7e0-eef5aec78890",
   "metadata": {},
   "outputs": [
    {
     "data": {
      "text/plain": [
       "306.65756011310907"
      ]
     },
     "execution_count": 37,
     "metadata": {},
     "output_type": "execute_result"
    }
   ],
   "source": [
    "# The predictions from the model after unstandardization\n",
    "ridge_coef = np.concatenate((np.array([ridge.intercept_ - (X_train.mean(0)[None,:]*ridge.coef_/X_train.std(0))[0].sum()]), np.array(ridge.coef_/X_train.std(0))))\n",
    "pred_manual = np.dot(np.concatenate((np.ones((X_test.shape[0], 1)), X_test), axis=1), ridge_coef)\n",
    "np.sqrt(((pred_manual - y_test)**2).mean())"
   ]
  },
  {
   "cell_type": "code",
   "execution_count": 38,
   "id": "716c6fc5-18fc-4a62-9141-b72e873b19a0",
   "metadata": {},
   "outputs": [
    {
     "data": {
      "text/plain": [
       "array([ 2.33017349e+02, -1.51875016e+00,  4.59735930e+00,  5.14620184e+00,\n",
       "        2.57214867e+00, -1.89349444e+00,  1.77354173e+00,  1.44100942e+01,\n",
       "       -4.97027082e-01,  1.50296692e+00,  2.12449441e+00,  6.44713726e-01,\n",
       "        2.13446891e-01, -5.04251442e-01,  3.18424447e-01,  4.70946564e-01,\n",
       "       -4.65480361e+00,  7.96077951e+01, -1.31125803e+02, -4.78949188e+01])"
      ]
     },
     "execution_count": 38,
     "metadata": {},
     "output_type": "execute_result"
    }
   ],
   "source": [
    "ridge_coef"
   ]
  },
  {
   "cell_type": "code",
   "execution_count": 39,
   "id": "bfff1df3-69ca-4d83-b1a6-a29b03afae80",
   "metadata": {},
   "outputs": [
    {
     "data": {
      "text/plain": [
       "array([611.91377526, 332.56885713, 124.37142842, 922.62405385,\n",
       "       249.56659171, 403.14483342, 326.63266439, 427.7844949 ,\n",
       "       195.81708914, 473.49107435, 577.33659569, 568.38324959,\n",
       "       259.79394896, 296.84617708, 379.49186649, 493.4899336 ,\n",
       "       895.21297509, 206.7341418 , 250.0614143 ])"
      ]
     },
     "execution_count": 39,
     "metadata": {},
     "output_type": "execute_result"
    }
   ],
   "source": [
    "pred_manual[0:19]"
   ]
  },
  {
   "cell_type": "code",
   "execution_count": 40,
   "id": "cc6c35e5-84da-443f-a56d-9a0d6e4f03c8",
   "metadata": {},
   "outputs": [],
   "source": [
    "ridge_pred = ridge.predict(Xs_test)"
   ]
  },
  {
   "cell_type": "code",
   "execution_count": 41,
   "id": "37510ccc-2590-4bae-82ee-1c2f7963c829",
   "metadata": {},
   "outputs": [
    {
     "data": {
      "text/plain": [
       "array([594.19373883, 320.04389853, 111.35897432, 931.50086138,\n",
       "       237.76007186, 397.8699227 , 326.64281448, 406.59602138,\n",
       "       176.89960328, 460.42242363, 570.23442626, 563.66084938,\n",
       "       251.91661343, 282.80097029, 377.99946555, 494.98174833,\n",
       "       984.64634833, 210.81883992, 242.69324663])"
      ]
     },
     "execution_count": 41,
     "metadata": {},
     "output_type": "execute_result"
    }
   ],
   "source": [
    "ridge_pred[0:19]"
   ]
  },
  {
   "cell_type": "markdown",
   "id": "5033b787-6a5c-4b13-89b6-149b8fa26e9b",
   "metadata": {},
   "source": [
    "- The above predictions derived from `.predict()` and manual unstandardization are different, which are expected, since the mean and variance of test data and train data are not exactly the same."
   ]
  },
  {
   "cell_type": "code",
   "execution_count": 42,
   "id": "c6d3421a-0889-4986-bd0e-edf201a79ab7",
   "metadata": {},
   "outputs": [],
   "source": [
    "reg = skl.LinearRegression().fit(X_train, y_train)"
   ]
  },
  {
   "cell_type": "code",
   "execution_count": 43,
   "id": "6f1638be-201a-4037-b437-b14449ed6d3c",
   "metadata": {},
   "outputs": [
    {
     "data": {
      "text/plain": [
       "(230.81188252184057,\n",
       " array([  -1.48872358,    4.4794937 ,    5.03736263,    2.65506393,\n",
       "          -1.8638036 ,    1.7190234 ,   15.21145397,   -0.51195039,\n",
       "           1.57280583,    2.2354418 ,    0.60296319,    0.17184527,\n",
       "          -0.48601012,    0.3176502 ,    0.47527567,   -4.73677401,\n",
       "          80.72788169, -131.1494012 ,  -48.6486961 ]))"
      ]
     },
     "execution_count": 43,
     "metadata": {},
     "output_type": "execute_result"
    }
   ],
   "source": [
    "reg.intercept_, reg.coef_"
   ]
  },
  {
   "cell_type": "code",
   "execution_count": 44,
   "id": "eb9a730c-6bdd-46ab-a591-0123940f32b1",
   "metadata": {},
   "outputs": [
    {
     "data": {
      "text/plain": [
       "array([610.23264051, 326.02986299, 124.5193146 , 922.75386011,\n",
       "       248.69301826, 400.88672793, 330.5406299 , 428.04608289,\n",
       "       193.99553556, 474.27224644, 575.62971745, 567.94246448,\n",
       "       259.75465489, 295.52126211, 379.34822949, 491.3671128 ,\n",
       "       896.63181344, 209.49407946, 249.87250768])"
      ]
     },
     "execution_count": 44,
     "metadata": {},
     "output_type": "execute_result"
    }
   ],
   "source": [
    "reg.predict(X_test)[0:19]"
   ]
  },
  {
   "cell_type": "markdown",
   "id": "67f04086-c031-4da4-a72e-4f83ed33dc04",
   "metadata": {},
   "source": [
    "- `LinearRegression()` and `ElasticNet()` results are not exactly equivalent because `ElasticNet()` applies a coordinate descent algorithm."
   ]
  },
  {
   "cell_type": "markdown",
   "id": "c4794f00-63bc-48da-9513-c54584cbc335",
   "metadata": {},
   "source": [
    "## Let's simply visualize the coefficients!"
   ]
  },
  {
   "cell_type": "code",
   "execution_count": 45,
   "id": "0eb6fb29-4a35-4b90-8fe8-82f76662a373",
   "metadata": {},
   "outputs": [
    {
     "name": "stdout",
     "output_type": "stream",
     "text": [
      "    Variable  Coefficient     Method\n",
      "0  Intercept   233.017349  ElaticNat\n",
      "1      AtBat    -1.518750  ElaticNat\n",
      "2       Hits     4.597359  ElaticNat\n",
      "3      HmRun     5.146202  ElaticNat\n",
      "4       Runs     2.572149  ElaticNat\n"
     ]
    },
    {
     "data": {
      "image/png": "[encoded data removed]",
      "text/plain": [
       "<Figure size 2000x2000 with 2 Axes>"
      ]
     },
     "metadata": {},
     "output_type": "display_data"
    }
   ],
   "source": [
    "coef_ridge_lr = pd.DataFrame({\n",
    "    \"Variable\": np.concatenate([list(['Intercept']), list(X.columns), list(['Intercept']), list(X.columns)]),\n",
    "    \"Coefficient\": np.concatenate([ridge_coef, np.array([reg.intercept_]), reg.coef_]),\n",
    "    \"Method\": np.repeat(['ElaticNat', 'LinearRegression'], 20)\n",
    "})\n",
    "\n",
    "# Round the lambda values and convert to factor\n",
    "coef_ridge_lr[\"Method\"] = coef_ridge_lr[\"Method\"].astype(\"category\")\n",
    "\n",
    "# Print the first few rows\n",
    "print(coef_ridge_lr.head())\n",
    "\n",
    "\n",
    "fig, axs = plt.subplots(2, figsize=(20, 20))\n",
    "\n",
    "flag = 0\n",
    "for method, group in coef_ridge_lr.groupby(\"Method\"):\n",
    "    axs[flag].plot(group[\"Variable\"], group[\"Coefficient\"], label=method, linewidth=2)\n",
    "    axs[flag].set_xlabel(\"Variable\", fontsize=14)\n",
    "    axs[flag].set_ylabel(\"Coefficient\", fontsize=14)\n",
    "    axs[flag].set_title(\"Coefficient of {}\".format(method), fontsize=16)\n",
    "    flag = flag + 1\n",
    "                         "
   ]
  },
  {
   "cell_type": "markdown",
   "id": "6dd7bcfd-d51b-464e-a5b9-c28905d498c1",
   "metadata": {},
   "source": [
    "- In general, instead of arbitrarily choosing $\\lambda$, it would be better to use cross-validation to choose the tuning parameter $\\lambda$.\n",
    "- We can do this using the built-in cross-validation function, `ElasticNetCV()`.\n",
    "- By default, the function `ElasticNetCV()` performs __five-fold__ cross-validation, though this can be changed using the argument `cv`."
   ]
  },
  {
   "cell_type": "code",
   "execution_count": 46,
   "id": "ebe0c2df-c11e-458a-b0de-7a7927ec8c9e",
   "metadata": {},
   "outputs": [
    {
     "data": {
      "text/html": [
       "<style>#sk-container-id-1 {color: black;}#sk-container-id-1 pre{padding: 0;}#sk-container-id-1 div.sk-toggleable {background-color: white;}#sk-container-id-1 label.sk-toggleable__label {cursor: pointer;display: block;width: 100%;margin-bottom: 0;padding: 0.3em;box-sizing: border-box;text-align: center;}#sk-container-id-1 label.sk-toggleable__label-arrow:before {content: \"▸\";float: left;margin-right: 0.25em;color: #696969;}#sk-container-id-1 label.sk-toggleable__label-arrow:hover:before {color: black;}#sk-container-id-1 div.sk-estimator:hover label.sk-toggleable__label-arrow:before {color: black;}#sk-container-id-1 div.sk-toggleable__content {max-height: 0;max-width: 0;overflow: hidden;text-align: left;background-color: #f0f8ff;}#sk-container-id-1 div.sk-toggleable__content pre {margin: 0.2em;color: black;border-radius: 0.25em;background-color: #f0f8ff;}#sk-container-id-1 input.sk-toggleable__control:checked~div.sk-toggleable__content {max-height: 200px;max-width: 100%;overflow: auto;}#sk-container-id-1 input.sk-toggleable__control:checked~label.sk-toggleable__label-arrow:before {content: \"▾\";}#sk-container-id-1 div.sk-estimator input.sk-toggleable__control:checked~label.sk-toggleable__label {background-color: #d4ebff;}#sk-container-id-1 div.sk-label input.sk-toggleable__control:checked~label.sk-toggleable__label {background-color: #d4ebff;}#sk-container-id-1 input.sk-hidden--visually {border: 0;clip: rect(1px 1px 1px 1px);clip: rect(1px, 1px, 1px, 1px);height: 1px;margin: -1px;overflow: hidden;padding: 0;position: absolute;width: 1px;}#sk-container-id-1 div.sk-estimator {font-family: monospace;background-color: #f0f8ff;border: 1px dotted black;border-radius: 0.25em;box-sizing: border-box;margin-bottom: 0.5em;}#sk-container-id-1 div.sk-estimator:hover {background-color: #d4ebff;}#sk-container-id-1 div.sk-parallel-item::after {content: \"\";width: 100%;border-bottom: 1px solid gray;flex-grow: 1;}#sk-container-id-1 div.sk-label:hover label.sk-toggleable__label {background-color: #d4ebff;}#sk-container-id-1 div.sk-serial::before {content: \"\";position: absolute;border-left: 1px solid gray;box-sizing: border-box;top: 0;bottom: 0;left: 50%;z-index: 0;}#sk-container-id-1 div.sk-serial {display: flex;flex-direction: column;align-items: center;background-color: white;padding-right: 0.2em;padding-left: 0.2em;position: relative;}#sk-container-id-1 div.sk-item {position: relative;z-index: 1;}#sk-container-id-1 div.sk-parallel {display: flex;align-items: stretch;justify-content: center;background-color: white;position: relative;}#sk-container-id-1 div.sk-item::before, #sk-container-id-1 div.sk-parallel-item::before {content: \"\";position: absolute;border-left: 1px solid gray;box-sizing: border-box;top: 0;bottom: 0;left: 50%;z-index: -1;}#sk-container-id-1 div.sk-parallel-item {display: flex;flex-direction: column;z-index: 1;position: relative;background-color: white;}#sk-container-id-1 div.sk-parallel-item:first-child::after {align-self: flex-end;width: 50%;}#sk-container-id-1 div.sk-parallel-item:last-child::after {align-self: flex-start;width: 50%;}#sk-container-id-1 div.sk-parallel-item:only-child::after {width: 0;}#sk-container-id-1 div.sk-dashed-wrapped {border: 1px dashed gray;margin: 0 0.4em 0.5em 0.4em;box-sizing: border-box;padding-bottom: 0.4em;background-color: white;}#sk-container-id-1 div.sk-label label {font-family: monospace;font-weight: bold;display: inline-block;line-height: 1.2em;}#sk-container-id-1 div.sk-label-container {text-align: center;}#sk-container-id-1 div.sk-container {/* jupyter's `normalize.less` sets `[hidden] { display: none; }` but bootstrap.min.css set `[hidden] { display: none !important; }` so we also need the `!important` here to be able to override the default hidden behavior on the sphinx rendered scikit-learn.org. See: https://github.com/scikit-learn/scikit-learn/issues/21755 */display: inline-block !important;position: relative;}#sk-container-id-1 div.sk-text-repr-fallback {display: none;}</style><div id=\"sk-container-id-1\" class=\"sk-top-container\"><div class=\"sk-text-repr-fallback\"><pre>ElasticNetCV(alphas=array([2.23461568e+07, 1.69040481e+07, 1.27872925e+07, 9.67311783e+06,\n",
       "       7.31735890e+06, 5.53531366e+06, 4.18726179e+06, 3.16750999e+06,\n",
       "       2.39610515e+06, 1.81256567e+06, 1.37113946e+06, 1.03721672e+06,\n",
       "       7.84616410e+05, 5.93533541e+05, 4.48986357e+05, 3.39641714e+05,\n",
       "       2.56926501e+05, 1.94355476e+05, 1.47022790e+05, 1.11217349e+05,\n",
       "       8.41318459e+04, 6.364265...\n",
       "       1.37113946e-02, 1.03721672e-02, 7.84616410e-03, 5.93533541e-03,\n",
       "       4.48986357e-03, 3.39641714e-03, 2.56926501e-03, 1.94355476e-03,\n",
       "       1.47022790e-03, 1.11217349e-03, 8.41318459e-04, 6.36426561e-04,\n",
       "       4.81433354e-04, 3.64186677e-04, 2.75493865e-04, 2.08401006e-04,\n",
       "       1.57647719e-04, 1.19254718e-04, 9.02118206e-05, 6.82419340e-05,\n",
       "       5.16225205e-05, 3.90505436e-05, 2.95403042e-05, 2.23461568e-05]),\n",
       "             l1_ratio=0.0)</pre><b>In a Jupyter environment, please rerun this cell to show the HTML representation or trust the notebook. <br />On GitHub, the HTML representation is unable to render, please try loading this page with nbviewer.org.</b></div><div class=\"sk-container\" hidden><div class=\"sk-item\"><div class=\"sk-estimator sk-toggleable\"><input class=\"sk-toggleable__control sk-hidden--visually\" id=\"sk-estimator-id-1\" type=\"checkbox\" checked><label for=\"sk-estimator-id-1\" class=\"sk-toggleable__label sk-toggleable__label-arrow\">ElasticNetCV</label><div class=\"sk-toggleable__content\"><pre>ElasticNetCV(alphas=array([2.23461568e+07, 1.69040481e+07, 1.27872925e+07, 9.67311783e+06,\n",
       "       7.31735890e+06, 5.53531366e+06, 4.18726179e+06, 3.16750999e+06,\n",
       "       2.39610515e+06, 1.81256567e+06, 1.37113946e+06, 1.03721672e+06,\n",
       "       7.84616410e+05, 5.93533541e+05, 4.48986357e+05, 3.39641714e+05,\n",
       "       2.56926501e+05, 1.94355476e+05, 1.47022790e+05, 1.11217349e+05,\n",
       "       8.41318459e+04, 6.364265...\n",
       "       1.37113946e-02, 1.03721672e-02, 7.84616410e-03, 5.93533541e-03,\n",
       "       4.48986357e-03, 3.39641714e-03, 2.56926501e-03, 1.94355476e-03,\n",
       "       1.47022790e-03, 1.11217349e-03, 8.41318459e-04, 6.36426561e-04,\n",
       "       4.81433354e-04, 3.64186677e-04, 2.75493865e-04, 2.08401006e-04,\n",
       "       1.57647719e-04, 1.19254718e-04, 9.02118206e-05, 6.82419340e-05,\n",
       "       5.16225205e-05, 3.90505436e-05, 2.95403042e-05, 2.23461568e-05]),\n",
       "             l1_ratio=0.0)</pre></div></div></div></div></div>"
      ],
      "text/plain": [
       "ElasticNetCV(alphas=array([2.23461568e+07, 1.69040481e+07, 1.27872925e+07, 9.67311783e+06,\n",
       "       7.31735890e+06, 5.53531366e+06, 4.18726179e+06, 3.16750999e+06,\n",
       "       2.39610515e+06, 1.81256567e+06, 1.37113946e+06, 1.03721672e+06,\n",
       "       7.84616410e+05, 5.93533541e+05, 4.48986357e+05, 3.39641714e+05,\n",
       "       2.56926501e+05, 1.94355476e+05, 1.47022790e+05, 1.11217349e+05,\n",
       "       8.41318459e+04, 6.364265...\n",
       "       1.37113946e-02, 1.03721672e-02, 7.84616410e-03, 5.93533541e-03,\n",
       "       4.48986357e-03, 3.39641714e-03, 2.56926501e-03, 1.94355476e-03,\n",
       "       1.47022790e-03, 1.11217349e-03, 8.41318459e-04, 6.36426561e-04,\n",
       "       4.81433354e-04, 3.64186677e-04, 2.75493865e-04, 2.08401006e-04,\n",
       "       1.57647719e-04, 1.19254718e-04, 9.02118206e-05, 6.82419340e-05,\n",
       "       5.16225205e-05, 3.90505436e-05, 2.95403042e-05, 2.23461568e-05]),\n",
       "             l1_ratio=0.0)"
      ]
     },
     "execution_count": 46,
     "metadata": {},
     "output_type": "execute_result"
    }
   ],
   "source": [
    "ridgecv = skl.ElasticNetCV(l1_ratio=0., alphas = grid/(y_train.std())).fit(Xs_train,y_train)\n",
    "ridgecv"
   ]
  },
  {
   "cell_type": "code",
   "execution_count": 47,
   "id": "bbfb3560-411e-4268-94df-949e45ea7a7d",
   "metadata": {},
   "outputs": [
    {
     "data": {
      "text/plain": [
       "1.5764771860031803"
      ]
     },
     "execution_count": 47,
     "metadata": {},
     "output_type": "execute_result"
    }
   ],
   "source": [
    "ridgecv.alpha_ # the penalized parameter chosen by cross-validation"
   ]
  },
  {
   "cell_type": "markdown",
   "id": "f67d48f3-fb92-497a-95fb-694b9a94739d",
   "metadata": {},
   "source": [
    "- Therefore, we see that the value of $\\lambda$ that results in the smallest crossvalidation error is 1.5764771860031803.\n",
    "- We can obtain the test MSE for this $\\lambda$."
   ]
  },
  {
   "cell_type": "code",
   "execution_count": 48,
   "id": "1795fc05-fbc6-479c-80ac-873b251985e4",
   "metadata": {},
   "outputs": [
    {
     "data": {
      "text/plain": [
       "325.1988053802709"
      ]
     },
     "execution_count": 48,
     "metadata": {},
     "output_type": "execute_result"
    }
   ],
   "source": [
    "ridgecv_pred = ridgecv.predict(Xs_test)\n",
    "np.sqrt(((ridgecv_pred - y_test)**2).mean())"
   ]
  },
  {
   "cell_type": "code",
   "execution_count": 49,
   "id": "3a57af2f-43bb-4cfd-9b06-b4f887284be0",
   "metadata": {},
   "outputs": [
    {
     "data": {
      "text/plain": [
       "328.48834877928914"
      ]
     },
     "execution_count": 49,
     "metadata": {},
     "output_type": "execute_result"
    }
   ],
   "source": [
    "# The predictions from the model after unstandardization\n",
    "ridge_coef = np.concatenate((np.array([ridgecv.intercept_ - (X_train.mean(0)[None,:]*ridgecv.coef_/X_train.std(0))[0].sum()]), np.array(ridgecv.coef_/X_train.std(0))))\n",
    "pred_manual = np.dot(np.concatenate((np.ones((X_test.shape[0], 1)), X_test), axis=1), ridge_coef)\n",
    "np.sqrt(((pred_manual - y_test)**2).mean())"
   ]
  },
  {
   "cell_type": "code",
   "execution_count": 50,
   "id": "d2f4f52e-6a51-4745-a956-13e7f91a2504",
   "metadata": {},
   "outputs": [
    {
     "data": {
      "text/plain": [
       "array([ 1.41739329e+02,  9.79165681e-02,  5.76607552e-01,  1.86428102e+00,\n",
       "        9.85657392e-01,  8.05991063e-01,  8.76877055e-01,  1.93486825e+00,\n",
       "        8.54751384e-03,  3.82181469e-02,  3.46709812e-01,  7.65739006e-02,\n",
       "        8.76775399e-02,  4.70875717e-02,  1.08947702e-01, -5.38314939e-02,\n",
       "       -1.20731150e+00,  8.84221312e+00, -5.68908004e+01,  5.37775139e+00])"
      ]
     },
     "execution_count": 50,
     "metadata": {},
     "output_type": "execute_result"
    }
   ],
   "source": [
    "ridge_coef"
   ]
  },
  {
   "cell_type": "markdown",
   "id": "631c9f49-baa1-450c-8e25-115921d5f204",
   "metadata": {},
   "source": [
    "- It outperforms the model with only the intercept.\n",
    "- Finally, we refit the model using the best $\\lambda$. "
   ]
  },
  {
   "cell_type": "code",
   "execution_count": 51,
   "id": "553e9295-9b62-4b50-9692-4f6c92d7dd88",
   "metadata": {},
   "outputs": [
    {
     "data": {
      "text/plain": [
       "array([ 5.51298724e+01,  1.12130416e-01,  6.53499120e-01,  1.18303072e+00,\n",
       "        9.35685559e-01,  8.46410941e-01,  1.31625356e+00,  2.60183510e+00,\n",
       "        1.08320675e-02,  4.66832373e-02,  3.37364307e-01,  9.33352961e-02,\n",
       "        9.74780183e-02,  7.18759884e-02,  1.17935607e-01,  1.59777011e-02,\n",
       "       -6.96060469e-01,  1.35787627e+01, -5.43535318e+01,  8.57809116e+00])"
      ]
     },
     "execution_count": 51,
     "metadata": {},
     "output_type": "execute_result"
    }
   ],
   "source": [
    "ridge = skl.ElasticNet(l1_ratio=0.,alpha=ridgecv.alpha_).fit(Xs,y)\n",
    "ridge_coef = np.concatenate((np.array([ridge.intercept_ - (X.mean(0)[None,:]*ridge.coef_/X.std(0))[0].sum()]), np.array(ridge.coef_/X.std(0))))\n",
    "ridge_coef"
   ]
  },
  {
   "cell_type": "code",
   "execution_count": 52,
   "id": "74f638e2-fa21-4d6c-92d7-ee59d84cb68d",
   "metadata": {},
   "outputs": [
    {
     "data": {
      "text/plain": [
       "336.69815055174195"
      ]
     },
     "execution_count": 52,
     "metadata": {},
     "output_type": "execute_result"
    }
   ],
   "source": [
    "pred_manual = np.dot(np.concatenate((np.ones((X.shape[0], 1)), X), axis=1), ridge_coef)\n",
    "np.sqrt(((pred_manual - y)**2).mean())"
   ]
  },
  {
   "cell_type": "markdown",
   "id": "51392db9-b5c1-43b2-98dd-4e051f55fa52",
   "metadata": {},
   "source": [
    "## LASSO `l1_ratio = 1`"
   ]
  },
  {
   "cell_type": "code",
   "execution_count": 53,
   "id": "2ee8876a-81e0-48f1-b49c-1f8b3d43357b",
   "metadata": {},
   "outputs": [],
   "source": [
    "lasso_coef = np.zeros((1+X.shape[1], len(grid))) # store the coefficients for intercept and predictor variables\n",
    "\n",
    "for i in np.arange(len(grid)):\n",
    "    lasso = skl.ElasticNet(l1_ratio=1.,alpha=grid[i]/y_train.std()).fit(X_train, y_train)\n",
    "    lasso_coef[0, i] = lasso.intercept_\n",
    "    lasso_coef[1:lasso_coef.shape[0], i] = lasso.coef_"
   ]
  },
  {
   "cell_type": "code",
   "execution_count": 54,
   "id": "da4e4da2-94cf-4b93-9aad-55d3cf17a130",
   "metadata": {},
   "outputs": [
    {
     "data": {
      "text/plain": [
       "(20, 100)"
      ]
     },
     "execution_count": 54,
     "metadata": {},
     "output_type": "execute_result"
    }
   ],
   "source": [
    "lasso_coef.shape"
   ]
  },
  {
   "cell_type": "code",
   "execution_count": 55,
   "id": "1dd8cee8-089d-4628-8855-cc726244a07c",
   "metadata": {},
   "outputs": [
    {
     "data": {
      "text/html": [
       "<div>\n",
       "<style scoped>\n",
       "    .dataframe tbody tr th:only-of-type {\n",
       "        vertical-align: middle;\n",
       "    }\n",
       "\n",
       "    .dataframe tbody tr th {\n",
       "        vertical-align: top;\n",
       "    }\n",
       "\n",
       "    .dataframe thead th {\n",
       "        text-align: right;\n",
       "    }\n",
       "</style>\n",
       "<table border=\"1\" class=\"dataframe\">\n",
       "  <thead>\n",
       "    <tr style=\"text-align: right;\">\n",
       "      <th></th>\n",
       "      <th>coefficients</th>\n",
       "      <th>variables</th>\n",
       "      <th>lambdas</th>\n",
       "      <th>L1 norm</th>\n",
       "    </tr>\n",
       "  </thead>\n",
       "  <tbody>\n",
       "    <tr>\n",
       "      <th>0</th>\n",
       "      <td>0.0</td>\n",
       "      <td>AtBat</td>\n",
       "      <td>2.234616e+07</td>\n",
       "      <td>0.0</td>\n",
       "    </tr>\n",
       "    <tr>\n",
       "      <th>1</th>\n",
       "      <td>0.0</td>\n",
       "      <td>AtBat</td>\n",
       "      <td>1.690405e+07</td>\n",
       "      <td>0.0</td>\n",
       "    </tr>\n",
       "    <tr>\n",
       "      <th>2</th>\n",
       "      <td>0.0</td>\n",
       "      <td>AtBat</td>\n",
       "      <td>1.278729e+07</td>\n",
       "      <td>0.0</td>\n",
       "    </tr>\n",
       "    <tr>\n",
       "      <th>3</th>\n",
       "      <td>0.0</td>\n",
       "      <td>AtBat</td>\n",
       "      <td>9.673118e+06</td>\n",
       "      <td>0.0</td>\n",
       "    </tr>\n",
       "    <tr>\n",
       "      <th>4</th>\n",
       "      <td>0.0</td>\n",
       "      <td>AtBat</td>\n",
       "      <td>7.317359e+06</td>\n",
       "      <td>0.0</td>\n",
       "    </tr>\n",
       "  </tbody>\n",
       "</table>\n",
       "</div>"
      ],
      "text/plain": [
       "   coefficients variables       lambdas  L1 norm\n",
       "0           0.0     AtBat  2.234616e+07      0.0\n",
       "1           0.0     AtBat  1.690405e+07      0.0\n",
       "2           0.0     AtBat  1.278729e+07      0.0\n",
       "3           0.0     AtBat  9.673118e+06      0.0\n",
       "4           0.0     AtBat  7.317359e+06      0.0"
      ]
     },
     "execution_count": 55,
     "metadata": {},
     "output_type": "execute_result"
    }
   ],
   "source": [
    "lasso_path = pd.DataFrame({'coefficients' : lasso_coef[1:,].reshape(1,-1)[0], \n",
    "             'variables' : np.repeat(X.columns.to_numpy(), len(grid)),\n",
    "             'lambdas' : np.tile(grid/y_train.std(), lasso_coef.shape[0]-1),\n",
    "             'L1 norm' : np.tile(np.abs(lasso_coef[1:,]).sum(0), lasso_coef.shape[0]-1)})\n",
    "lasso_path.head()"
   ]
  },
  {
   "cell_type": "code",
   "execution_count": 56,
   "id": "eea62f01-59d1-4a18-91b5-bd7251621d0b",
   "metadata": {},
   "outputs": [
    {
     "data": {
      "image/png": "[encoded data removed]",
      "text/plain": [
       "<Figure size 640x480 with 1 Axes>"
      ]
     },
     "metadata": {},
     "output_type": "display_data"
    }
   ],
   "source": [
    "ax = sns.lineplot(data = lasso_path, x = 'L1 norm', y = 'coefficients', hue = 'variables', legend = 'brief')\n",
    "sns.move_legend(ax, \"upper right\", bbox_to_anchor=(1.35, 1))\n",
    "plt.show()"
   ]
  },
  {
   "cell_type": "markdown",
   "id": "6acf1a64-7367-477d-9d0b-a72166c5ed01",
   "metadata": {},
   "source": [
    "- We now perform cross-validation and compute the associated test error."
   ]
  },
  {
   "cell_type": "code",
   "execution_count": 57,
   "id": "199fa333-d8a8-44ce-8f94-26c06668b919",
   "metadata": {},
   "outputs": [
    {
     "data": {
      "text/plain": [
       "2234.6156796030627"
      ]
     },
     "execution_count": 57,
     "metadata": {},
     "output_type": "execute_result"
    }
   ],
   "source": [
    "lassocv = skl.ElasticNetCV(l1_ratio=1., alphas = grid/(y_train.std())).fit(X_train,y_train)\n",
    "lassocv.alpha_ # the penalized parameter chosen by cross-validation"
   ]
  },
  {
   "cell_type": "code",
   "execution_count": 58,
   "id": "deaa7546-1cea-4996-81a4-897a3ece20af",
   "metadata": {},
   "outputs": [
    {
     "data": {
      "text/plain": [
       "316.1164952196221"
      ]
     },
     "execution_count": 58,
     "metadata": {},
     "output_type": "execute_result"
    }
   ],
   "source": [
    "lassocv_pred = lassocv.predict(X_test)\n",
    "np.sqrt(((lassocv_pred - y_test)**2).mean())"
   ]
  },
  {
   "cell_type": "markdown",
   "id": "319be7e6-bbb9-4038-9852-8af80135dfd5",
   "metadata": {},
   "source": [
    "- This is substantially lower than the test set MSE of the null model, and very similar to the test MSE of ridge regression with λ chosen by cross-validation.\n",
    "- However, the lasso has an advantage over ridge regression in that the resulting coefficient estimates are sparse (interpretability)."
   ]
  },
  {
   "cell_type": "code",
   "execution_count": 59,
   "id": "b151e1da-7e34-45a3-9673-8a07418540b0",
   "metadata": {},
   "outputs": [
    {
     "data": {
      "text/plain": [
       "2234.6156796030627"
      ]
     },
     "execution_count": 59,
     "metadata": {},
     "output_type": "execute_result"
    }
   ],
   "source": [
    "lassocv.alpha_"
   ]
  },
  {
   "cell_type": "code",
   "execution_count": 60,
   "id": "592e3398-102c-4e54-8ef5-a4e076d4ad74",
   "metadata": {},
   "outputs": [
    {
     "data": {
      "text/plain": [
       "(22.559389231193904,\n",
       " array([ 0.52610263,  0.        ,  0.        ,  0.        ,  0.        ,\n",
       "         0.        , -0.        , -0.17975982,  0.48999589,  0.        ,\n",
       "         0.5176473 ,  0.47014893,  0.        ,  0.28388914,  0.        ,\n",
       "        -0.        ,  0.        , -0.        ,  0.        ]))"
      ]
     },
     "execution_count": 60,
     "metadata": {},
     "output_type": "execute_result"
    }
   ],
   "source": [
    "lasso = skl.ElasticNet(l1_ratio=1.,alpha=lassocv.alpha_).fit(X, y)\n",
    "lasso.intercept_, lasso.coef_"
   ]
  },
  {
   "cell_type": "markdown",
   "id": "cbb9d59e-3f94-4d31-a772-f6a63df26489",
   "metadata": {},
   "source": [
    "- More than half of the coefficients are shrinked to zeros!"
   ]
  },
  {
   "cell_type": "markdown",
   "id": "3f42ffa1-180d-4f39-ab1f-6099ba607a1a",
   "metadata": {},
   "source": [
    "## Comparison between Lasso and Ridge\n",
    "- We already see that Lasso may not be better than Ridge.\n",
    "- <font color='red'>Let's use simulation to analyze their performance when some true coefficients are zero, which means that Lasso is closer to the ground truth than Ridge.</font>\n",
    "- Since automatic alpha grid generation is not supported for `l1_ratio=0`, we use `RidgeCV()` and `LassoCV()` respectively instead of `ElasticNet()`."
   ]
  },
  {
   "cell_type": "code",
   "execution_count": 61,
   "id": "7dd48fd3-d516-4636-a5b8-b7dea4b1484a",
   "metadata": {},
   "outputs": [],
   "source": [
    "n = 100 # Training size\n",
    "ntest = 500 # Test size\n",
    "p = 500 # Number of predictor variables\n",
    "p_nonzero = int(0.5 * 500) # Number of non-zero predictor variables\n",
    "nrep = 30 # Repeat experiments 30 times\n",
    "\n",
    "sb2 = 0.5\n",
    "se2 = 1 - sb2\n",
    "\n",
    "X = np.random.normal(size=(n, p)) / np.sqrt(p)\n",
    "Xtest = np.random.normal(size=(ntest, p)) / np.sqrt(p)\n",
    "\n",
    "beta = np.zeros(p)\n",
    "beta[0:p_nonzero] = np.random.normal(0, np.sqrt(sb2 * p / p_nonzero), p_nonzero)\n",
    "\n",
    "y0 = X.dot(beta)\n",
    "ytest = Xtest.dot(beta)\n",
    "\n",
    "beta_MSE = np.zeros((nrep, 2))\n",
    "pred_MSE = np.zeros((nrep, 2))\n",
    "\n",
    "for irep in range(nrep):\n",
    "    y = y0 + np.random.normal(0, np.sqrt(se2), n)\n",
    "\n",
    "    ridge = skl.RidgeCV().fit(X,y)\n",
    "    lasso = skl.LassoCV().fit(X,y)\n",
    "\n",
    "    parameters = {'alpha': [0.0, 1.0]}\n",
    "\n",
    "    beta_ridge = ridge.coef_\n",
    "    beta_lasso = lasso.coef_\n",
    "    beta_MSE[irep, 0] = ((beta - beta_ridge)**2).mean()\n",
    "    beta_MSE[irep, 1] = ((beta - beta_lasso)**2).mean()\n",
    "\n",
    "    pred_ridge = ridge.predict(Xtest)\n",
    "    pred_lasso = lasso.predict(Xtest)\n",
    "\n",
    "    pred_MSE[irep, 0] = ((ytest - pred_ridge)**2).mean()\n",
    "    pred_MSE[irep, 1] = ((ytest - pred_lasso)**2).mean()"
   ]
  },
  {
   "cell_type": "code",
   "execution_count": 62,
   "id": "483f816b-60bd-4cc6-a499-27f93c4834f1",
   "metadata": {},
   "outputs": [],
   "source": [
    "beta_MSE = pd.DataFrame(beta_MSE, columns=[\"Ridge\", \"Lasso\"])\n",
    "beta_MSE = pd.melt(beta_MSE, var_name=\"Method\", value_name=\"MSE\")\n",
    "\n",
    "pred_MSE = pd.DataFrame(pred_MSE, columns=[\"Ridge\", \"Lasso\"])\n",
    "pred_MSE = pd.melt(pred_MSE, var_name=\"Method\", value_name=\"MSE\")"
   ]
  },
  {
   "cell_type": "code",
   "execution_count": 63,
   "id": "4a9a6fa9-6a1a-4c72-8ac7-bf45224d3ec8",
   "metadata": {},
   "outputs": [
    {
     "data": {
      "image/png": "[encoded data removed]",
      "text/plain": [
       "<Figure size 1000x800 with 1 Axes>"
      ]
     },
     "metadata": {},
     "output_type": "display_data"
    },
    {
     "data": {
      "image/png": "[encoded data removed]",
      "text/plain": [
       "<Figure size 1000x800 with 1 Axes>"
      ]
     },
     "metadata": {},
     "output_type": "display_data"
    }
   ],
   "source": [
    "plt.figure(figsize=(10, 8))\n",
    "plt.title(\"MSE of coefficients\")\n",
    "sns.boxplot(x=\"Method\", y=\"MSE\", data=beta_MSE)\n",
    "plt.show()\n",
    "\n",
    "plt.figure(figsize=(10, 8))\n",
    "plt.title(\"MSE of prediction\")\n",
    "sns.boxplot(x=\"Method\", y=\"MSE\", data=pred_MSE)\n",
    "plt.show()"
   ]
  },
  {
   "cell_type": "markdown",
   "id": "55eb74fb-4435-4534-88e4-cc99302074a9",
   "metadata": {},
   "source": [
    "Amazing! \n",
    "<font color='red'>In terms of both coefficients estimation and prediction accuracy, Ridge outperforms Lasso, which is expected to be a better method.</font>\n",
    "\n",
    "Try to think about it!"
   ]
  },
  {
   "cell_type": "markdown",
   "id": "6989320b-f1b4-4bf4-9c5a-3be96d48072f",
   "metadata": {},
   "source": [
    "Remember that we changed the <font color='red'>signal-to-noise ratio</font> (SNR or S/N) and compared the performances in the last tutorial.\n",
    "\n",
    "This time we increase the <font color='red'>sample size</font> and reduce the <font color='red'>number of predictor variables</font>."
   ]
  },
  {
   "cell_type": "code",
   "execution_count": 64,
   "id": "f7994da8-72ca-4e3c-b9ac-2cb2caa44d01",
   "metadata": {},
   "outputs": [
    {
     "data": {
      "image/png": "[encoded data removed]",
      "text/plain": [
       "<Figure size 1000x800 with 1 Axes>"
      ]
     },
     "metadata": {},
     "output_type": "display_data"
    },
    {
     "data": {
      "image/png": "[encoded data removed]",
      "text/plain": [
       "<Figure size 1000x800 with 1 Axes>"
      ]
     },
     "metadata": {},
     "output_type": "display_data"
    }
   ],
   "source": [
    "n = 300 # 100 -> 400\n",
    "ntest = 500\n",
    "p = 100 # 500 -> 100\n",
    "p_nonzero = int(0.5 * p)\n",
    "nrep = 30\n",
    "\n",
    "sb2 = 0.5\n",
    "se2 = 1 - sb2\n",
    "\n",
    "X = np.random.normal(size=(n, p)) / np.sqrt(p)\n",
    "Xtest = np.random.normal(size=(ntest, p)) / np.sqrt(p)\n",
    "\n",
    "beta = np.zeros(p)\n",
    "beta[0:p_nonzero] = np.random.normal(0, np.sqrt(sb2 * p / p_nonzero), p_nonzero)\n",
    "\n",
    "y0 = X.dot(beta)\n",
    "ytest = Xtest.dot(beta)\n",
    "\n",
    "beta_MSE = np.zeros((nrep, 2))\n",
    "pred_MSE = np.zeros((nrep, 2))\n",
    "\n",
    "for irep in range(nrep):\n",
    "    y = y0 + np.random.normal(0, np.sqrt(se2), n)\n",
    "\n",
    "    ridge = skl.RidgeCV().fit(X,y)\n",
    "    lasso = skl.LassoCV().fit(X,y)\n",
    "\n",
    "    parameters = {'alpha': [0.0, 1.0]}\n",
    "\n",
    "    beta_ridge = ridge.coef_\n",
    "    beta_lasso = lasso.coef_\n",
    "    beta_MSE[irep, 0] = ((beta - beta_ridge)**2).mean()\n",
    "    beta_MSE[irep, 1] = ((beta - beta_lasso)**2).mean()\n",
    "\n",
    "    pred_ridge = ridge.predict(Xtest)\n",
    "    pred_lasso = lasso.predict(Xtest)\n",
    "\n",
    "    pred_MSE[irep, 0] = ((ytest - pred_ridge)**2).mean()\n",
    "    pred_MSE[irep, 1] = ((ytest - pred_lasso)**2).mean()\n",
    "    \n",
    "beta_MSE = pd.DataFrame(beta_MSE, columns=[\"Ridge\", \"Lasso\"])\n",
    "beta_MSE = pd.melt(beta_MSE, var_name=\"Method\", value_name=\"MSE\")\n",
    "\n",
    "pred_MSE = pd.DataFrame(pred_MSE, columns=[\"Ridge\", \"Lasso\"])\n",
    "pred_MSE = pd.melt(pred_MSE, var_name=\"Method\", value_name=\"MSE\")\n",
    "\n",
    "plt.figure(figsize=(10, 8))\n",
    "plt.title(\"MSE of coefficients\")\n",
    "sns.boxplot(x=\"Method\", y=\"MSE\", data=beta_MSE)\n",
    "plt.show()\n",
    "\n",
    "plt.figure(figsize=(10, 8))\n",
    "plt.title(\"MSE of prediction\")\n",
    "sns.boxplot(x=\"Method\", y=\"MSE\", data=pred_MSE)\n",
    "plt.show()"
   ]
  },
  {
   "cell_type": "markdown",
   "id": "ccc3364e-7332-4a12-8ba1-1d1b5f7c166c",
   "metadata": {},
   "source": [
    "<font color='red'>It's clear that the data quality (corresponding to the sample size here) plays a role!<\\font>"
   ]
  }
 ],
 "metadata": {
  "kernelspec": {
   "display_name": "Python 3 (ipykernel)",
   "language": "python",
   "name": "python3"
  },
  "language_info": {
   "codemirror_mode": {
    "name": "ipython",
    "version": 3
   },
   "file_extension": ".py",
   "mimetype": "text/x-python",
   "name": "python",
   "nbconvert_exporter": "python",
   "pygments_lexer": "ipython3",
   "version": "3.9.7"
  }
 },
 "nbformat": 4,
 "nbformat_minor": 5
}
